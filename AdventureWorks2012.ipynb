{
 "cells": [
  {
   "cell_type": "markdown",
   "metadata": {},
   "source": [
    "# Health Catalyst data science take-home Test By Yi 'Evelyn' He"
   ]
  },
  {
   "cell_type": "code",
   "execution_count": 1,
   "metadata": {
    "collapsed": true
   },
   "outputs": [],
   "source": [
    "# created by Evelyn on Tue Sep20 15:01 2016\n",
    "\n",
    "\n",
    "import numpy as np\n",
    "import pandas as pd\n",
    "import matplotlib\n",
    "import matplotlib.pyplot as plt\n",
    "matplotlib.style.use('ggplot')\n",
    "%matplotlib inline\n",
    "import pandas.io.sql\n",
    "import pyodbc\n",
    "import datetime as DT\n",
    "from sklearn.linear_model import LogisticRegression\n",
    "from sklearn.cross_validation import train_test_split\n",
    "from sklearn import metrics\n",
    "from sklearn.cross_validation import cross_val_score\n",
    "from sklearn.ensemble import RandomForestClassifier\n",
    "from sklearn.metrics import accuracy_score\n",
    "from sklearn.grid_search import GridSearchCV\n",
    "from time import time\n",
    "from operator import itemgetter"
   ]
  },
  {
   "cell_type": "markdown",
   "metadata": {},
   "source": [
    "Here I will use a local SQL Server environment---"
   ]
  },
  {
   "cell_type": "code",
   "execution_count": 2,
   "metadata": {
    "collapsed": false,
    "scrolled": false
   },
   "outputs": [
    {
     "data": {
      "text/html": [
       "<div>\n",
       "<table border=\"1\" class=\"dataframe\">\n",
       "  <thead>\n",
       "    <tr style=\"text-align: right;\">\n",
       "      <th></th>\n",
       "      <th>BusinessEntityID</th>\n",
       "      <th>NationalIDNumber</th>\n",
       "      <th>LoginID</th>\n",
       "      <th>OrganizationNode</th>\n",
       "      <th>OrganizationLevel</th>\n",
       "      <th>JobTitle</th>\n",
       "      <th>BirthDate</th>\n",
       "      <th>MaritalStatus</th>\n",
       "      <th>Gender</th>\n",
       "      <th>HireDate</th>\n",
       "      <th>SalariedFlag</th>\n",
       "      <th>VacationHours</th>\n",
       "      <th>SickLeaveHours</th>\n",
       "      <th>CurrentFlag</th>\n",
       "      <th>rowguid</th>\n",
       "      <th>ModifiedDate</th>\n",
       "    </tr>\n",
       "  </thead>\n",
       "  <tbody>\n",
       "    <tr>\n",
       "      <th>0</th>\n",
       "      <td>1</td>\n",
       "      <td>295847284</td>\n",
       "      <td>adventure-works\\ken0</td>\n",
       "      <td>[]</td>\n",
       "      <td>0</td>\n",
       "      <td>Chief Executive Officer</td>\n",
       "      <td>1963-03-02</td>\n",
       "      <td>S</td>\n",
       "      <td>M</td>\n",
       "      <td>2003-02-15</td>\n",
       "      <td>True</td>\n",
       "      <td>99</td>\n",
       "      <td>69</td>\n",
       "      <td>True</td>\n",
       "      <td>F01251E5-96A3-448D-981E-0F99D789110D</td>\n",
       "      <td>2008-07-31</td>\n",
       "    </tr>\n",
       "    <tr>\n",
       "      <th>1</th>\n",
       "      <td>2</td>\n",
       "      <td>245797967</td>\n",
       "      <td>adventure-works\\terri0</td>\n",
       "      <td>[88]</td>\n",
       "      <td>1</td>\n",
       "      <td>Vice President of Engineering</td>\n",
       "      <td>1965-09-01</td>\n",
       "      <td>S</td>\n",
       "      <td>F</td>\n",
       "      <td>2002-03-03</td>\n",
       "      <td>True</td>\n",
       "      <td>1</td>\n",
       "      <td>20</td>\n",
       "      <td>True</td>\n",
       "      <td>45E8F437-670D-4409-93CB-F9424A40D6EE</td>\n",
       "      <td>2008-07-31</td>\n",
       "    </tr>\n",
       "    <tr>\n",
       "      <th>2</th>\n",
       "      <td>3</td>\n",
       "      <td>509647174</td>\n",
       "      <td>adventure-works\\roberto0</td>\n",
       "      <td>[90, 192]</td>\n",
       "      <td>2</td>\n",
       "      <td>Engineering Manager</td>\n",
       "      <td>1968-12-13</td>\n",
       "      <td>M</td>\n",
       "      <td>M</td>\n",
       "      <td>2001-12-12</td>\n",
       "      <td>True</td>\n",
       "      <td>2</td>\n",
       "      <td>21</td>\n",
       "      <td>True</td>\n",
       "      <td>9BBBFB2C-EFBB-4217-9AB7-F97689328841</td>\n",
       "      <td>2008-07-31</td>\n",
       "    </tr>\n",
       "    <tr>\n",
       "      <th>3</th>\n",
       "      <td>4</td>\n",
       "      <td>112457891</td>\n",
       "      <td>adventure-works\\rob0</td>\n",
       "      <td>[90, 214]</td>\n",
       "      <td>3</td>\n",
       "      <td>Senior Tool Designer</td>\n",
       "      <td>1969-01-23</td>\n",
       "      <td>S</td>\n",
       "      <td>M</td>\n",
       "      <td>2002-01-05</td>\n",
       "      <td>False</td>\n",
       "      <td>48</td>\n",
       "      <td>80</td>\n",
       "      <td>True</td>\n",
       "      <td>59747955-87B8-443F-8ED4-F8AD3AFDF3A9</td>\n",
       "      <td>2008-07-31</td>\n",
       "    </tr>\n",
       "    <tr>\n",
       "      <th>4</th>\n",
       "      <td>5</td>\n",
       "      <td>695256908</td>\n",
       "      <td>adventure-works\\gail0</td>\n",
       "      <td>[90, 218]</td>\n",
       "      <td>3</td>\n",
       "      <td>Design Engineer</td>\n",
       "      <td>1946-10-29</td>\n",
       "      <td>M</td>\n",
       "      <td>F</td>\n",
       "      <td>2002-02-06</td>\n",
       "      <td>True</td>\n",
       "      <td>5</td>\n",
       "      <td>22</td>\n",
       "      <td>True</td>\n",
       "      <td>EC84AE09-F9B8-4A15-B4A9-6CCBAB919B08</td>\n",
       "      <td>2008-07-31</td>\n",
       "    </tr>\n",
       "  </tbody>\n",
       "</table>\n",
       "</div>"
      ],
      "text/plain": [
       "   BusinessEntityID NationalIDNumber                   LoginID  \\\n",
       "0                 1        295847284      adventure-works\\ken0   \n",
       "1                 2        245797967    adventure-works\\terri0   \n",
       "2                 3        509647174  adventure-works\\roberto0   \n",
       "3                 4        112457891      adventure-works\\rob0   \n",
       "4                 5        695256908     adventure-works\\gail0   \n",
       "\n",
       "  OrganizationNode  OrganizationLevel                       JobTitle  \\\n",
       "0               []                  0        Chief Executive Officer   \n",
       "1             [88]                  1  Vice President of Engineering   \n",
       "2        [90, 192]                  2            Engineering Manager   \n",
       "3        [90, 214]                  3           Senior Tool Designer   \n",
       "4        [90, 218]                  3                Design Engineer   \n",
       "\n",
       "    BirthDate MaritalStatus Gender    HireDate SalariedFlag  VacationHours  \\\n",
       "0  1963-03-02             S      M  2003-02-15         True             99   \n",
       "1  1965-09-01             S      F  2002-03-03         True              1   \n",
       "2  1968-12-13             M      M  2001-12-12         True              2   \n",
       "3  1969-01-23             S      M  2002-01-05        False             48   \n",
       "4  1946-10-29             M      F  2002-02-06         True              5   \n",
       "\n",
       "   SickLeaveHours CurrentFlag                               rowguid  \\\n",
       "0              69        True  F01251E5-96A3-448D-981E-0F99D789110D   \n",
       "1              20        True  45E8F437-670D-4409-93CB-F9424A40D6EE   \n",
       "2              21        True  9BBBFB2C-EFBB-4217-9AB7-F97689328841   \n",
       "3              80        True  59747955-87B8-443F-8ED4-F8AD3AFDF3A9   \n",
       "4              22        True  EC84AE09-F9B8-4A15-B4A9-6CCBAB919B08   \n",
       "\n",
       "  ModifiedDate  \n",
       "0   2008-07-31  \n",
       "1   2008-07-31  \n",
       "2   2008-07-31  \n",
       "3   2008-07-31  \n",
       "4   2008-07-31  "
      ]
     },
     "execution_count": 2,
     "metadata": {},
     "output_type": "execute_result"
    }
   ],
   "source": [
    "## Define parameters\n",
    "server = 'EVELYN-X200\\SQLEXPRESS'\n",
    "db = 'AdventureWorks2012'\n",
    "\n",
    "# Create the connection\n",
    "connection = pyodbc.connect('DRIVER={SQL Server};SERVER=' + server + ';DATABASE=' + db + ';Trusted_Connection=yes')\n",
    "\n",
    "# query db\n",
    "sql = \"\"\"\n",
    "\n",
    "SELECT  *  FROM HumanResources.Employee\n",
    "\n",
    "\"\"\"\n",
    "\n",
    "#load data to Python dataframe\n",
    "df = pandas.io.sql.read_sql(sql, connection)\n",
    "df.head()"
   ]
  },
  {
   "cell_type": "code",
   "execution_count": 3,
   "metadata": {
    "collapsed": false,
    "scrolled": true
   },
   "outputs": [
    {
     "name": "stdout",
     "output_type": "stream",
     "text": [
      "The dimensions of the dataframe we've got are (290, 16)\n"
     ]
    }
   ],
   "source": [
    "#check dimensions of dataframe\n",
    "print (\"The dimensions of the dataframe we've got are \"+ str(df.shape))"
   ]
  },
  {
   "cell_type": "code",
   "execution_count": 4,
   "metadata": {
    "collapsed": false,
    "scrolled": true
   },
   "outputs": [
    {
     "name": "stdout",
     "output_type": "stream",
     "text": [
      "BusinessEntityID     0\n",
      "NationalIDNumber     0\n",
      "LoginID              0\n",
      "OrganizationNode     0\n",
      "OrganizationLevel    0\n",
      "JobTitle             0\n",
      "BirthDate            0\n",
      "MaritalStatus        0\n",
      "Gender               0\n",
      "HireDate             0\n",
      "SalariedFlag         0\n",
      "VacationHours        0\n",
      "SickLeaveHours       0\n",
      "CurrentFlag          0\n",
      "rowguid              0\n",
      "ModifiedDate         0\n",
      "dtype: int64\n"
     ]
    }
   ],
   "source": [
    "# check missing values--no missing values\n",
    "print np.sum(df.isnull())"
   ]
  },
  {
   "cell_type": "markdown",
   "metadata": {},
   "source": [
    "We can see there is no missing value.\n",
    "\n",
    "\n",
    "Also we want to take a look at the types of all columns in dataframe"
   ]
  },
  {
   "cell_type": "code",
   "execution_count": 5,
   "metadata": {
    "collapsed": false,
    "scrolled": true
   },
   "outputs": [
    {
     "name": "stdout",
     "output_type": "stream",
     "text": [
      "BusinessEntityID              int64\n",
      "NationalIDNumber             object\n",
      "LoginID                      object\n",
      "OrganizationNode             object\n",
      "OrganizationLevel             int64\n",
      "JobTitle                     object\n",
      "BirthDate                    object\n",
      "MaritalStatus                object\n",
      "Gender                       object\n",
      "HireDate                     object\n",
      "SalariedFlag                   bool\n",
      "VacationHours                 int64\n",
      "SickLeaveHours                int64\n",
      "CurrentFlag                    bool\n",
      "rowguid                      object\n",
      "ModifiedDate         datetime64[ns]\n",
      "dtype: object\n"
     ]
    }
   ],
   "source": [
    "# check types of all columns\n",
    "print df.dtypes"
   ]
  },
  {
   "cell_type": "markdown",
   "metadata": {},
   "source": [
    "Then we begin to pre-process data.\n",
    "\n",
    "\n",
    "Firstly  we want to identify unnecessary variables for classification models.\n",
    "\n",
    "To do this we need to check how many unique values in each column."
   ]
  },
  {
   "cell_type": "code",
   "execution_count": 6,
   "metadata": {
    "collapsed": false,
    "scrolled": true
   },
   "outputs": [
    {
     "name": "stdout",
     "output_type": "stream",
     "text": [
      "290\n",
      "290\n",
      "290\n",
      "290\n",
      "5\n",
      "67\n",
      "279\n",
      "2\n",
      "2\n",
      "164\n",
      "100\n",
      "51\n",
      "1\n",
      "290\n",
      "2\n"
     ]
    }
   ],
   "source": [
    "#clean and pre-process data\n",
    "#pre-processing-1 identify unnecessary variables for classification\n",
    "\n",
    "#according to the data dictionary(http://www.sqldatadictionary.com/AdventureWorks2012.pdf)\n",
    "#and also check amount of unique values in each column to determine unnecessary variables\n",
    "print len(df.BusinessEntityID.unique())\n",
    "print len(df.NationalIDNumber.unique())\n",
    "print len(df.LoginID.unique())\n",
    "\n",
    "# convert hierarchyid to string values\n",
    "df['OrganizationNode'] = df['OrganizationNode'].astype(str)\n",
    "print len(df.OrganizationNode.unique())\n",
    "\n",
    "print len(df.OrganizationLevel.unique())\n",
    "print len(df.JobTitle.unique())\n",
    "print len(df.BirthDate.unique())\n",
    "print len(df.MaritalStatus.unique())\n",
    "print len(df.Gender.unique())\n",
    "print len(df.HireDate.unique())\n",
    "print len(df.VacationHours.unique())\n",
    "print len(df.SickLeaveHours.unique())\n",
    "print len(df.CurrentFlag.unique())\n",
    "print len(df.rowguid.unique())\n",
    "print len(df.ModifiedDate.unique())"
   ]
  },
  {
   "cell_type": "markdown",
   "metadata": {},
   "source": [
    "\n",
    "We can see there are 5 columns (\"BusinessEntityID\", \"NationalIDNumber\", \"LoginID\",  \"OrganizationNode\", \"rowguid\") with 290 unique values (we have 290 records totally), which means here they play the role just like identifiers.\n",
    "\n",
    "\n",
    "We can exclude them from classification modeling.\n",
    "\n",
    "\n",
    "Another column we will drop is CurrentFlag, since it has only one value for all records"
   ]
  },
  {
   "cell_type": "code",
   "execution_count": 7,
   "metadata": {
    "collapsed": false,
    "scrolled": true
   },
   "outputs": [
    {
     "name": "stdout",
     "output_type": "stream",
     "text": [
      "The dimensions of the dataframe we've got are (290, 10)\n",
      "\n",
      "   OrganizationLevel                       JobTitle   BirthDate MaritalStatus  \\\n",
      "0                  0        Chief Executive Officer  1963-03-02             S   \n",
      "1                  1  Vice President of Engineering  1965-09-01             S   \n",
      "2                  2            Engineering Manager  1968-12-13             M   \n",
      "3                  3           Senior Tool Designer  1969-01-23             S   \n",
      "4                  3                Design Engineer  1946-10-29             M   \n",
      "\n",
      "  Gender    HireDate SalariedFlag  VacationHours  SickLeaveHours ModifiedDate  \n",
      "0      M  2003-02-15         True             99              69   2008-07-31  \n",
      "1      F  2002-03-03         True              1              20   2008-07-31  \n",
      "2      M  2001-12-12         True              2              21   2008-07-31  \n",
      "3      M  2002-01-05        False             48              80   2008-07-31  \n",
      "4      F  2002-02-06         True              5              22   2008-07-31  \n"
     ]
    }
   ],
   "source": [
    "#drop columns with 290 unique values from classification\n",
    "list_id = [\"BusinessEntityID\", \"NationalIDNumber\", \"LoginID\", \n",
    "                   \"OrganizationNode\", \"rowguid\"]\n",
    "df_no_id = df.drop(list_id, 1)                 \n",
    "\n",
    "#drop CurrentFlag since it has only one value\n",
    "df_no_CurrentFlag = df_no_id.drop(['CurrentFlag'], 1)\n",
    "\n",
    "#again check shape of dataset\n",
    "print (\"The dimensions of the dataframe we've got are \"+ str(df_no_CurrentFlag.shape))\n",
    "print (\"\")\n",
    "print df_no_CurrentFlag.head()"
   ]
  },
  {
   "cell_type": "markdown",
   "metadata": {},
   "source": [
    "\n",
    "\n",
    "Secondly  we transform date time variables to duration:\n",
    "\n",
    "That is, we substitute BirthDate with Age, HireDate with Work_Duration.\n",
    "\n",
    "\n",
    "Another datetime variable ModifiedDate is dropped since it provides limited info for classification"
   ]
  },
  {
   "cell_type": "code",
   "execution_count": 8,
   "metadata": {
    "collapsed": true,
    "scrolled": true
   },
   "outputs": [],
   "source": [
    "#pre-processing-2 transform date time to duration\n",
    "\n",
    "# get current date\n",
    "now = pd.to_datetime(DT.datetime.now())\n",
    "#calculate age and work_duration to substitute BirthDate and HireDate\n",
    "df_no_CurrentFlag['Age'] = (now - pd.to_datetime(df_no_CurrentFlag['BirthDate'])).astype('<m8[Y]')\n",
    "df_no_CurrentFlag['Work_Duration'] = (now - pd.to_datetime(df_no_CurrentFlag['HireDate'])).astype('<m8[Y]')\n",
    "# also drop ModifiedDate since it provides limited info for classification\n",
    "df_no_date = df_no_CurrentFlag.drop(['BirthDate', 'HireDate', 'ModifiedDate'], 1)"
   ]
  },
  {
   "cell_type": "markdown",
   "metadata": {},
   "source": [
    "Thirdly we convert non-numeric variables into category type"
   ]
  },
  {
   "cell_type": "code",
   "execution_count": 9,
   "metadata": {
    "collapsed": true,
    "scrolled": true
   },
   "outputs": [],
   "source": [
    "#pre-process-3 convert several non-numeric variables into category type\n",
    "df_no_date['OrganizationLevel'] = df_no_date['OrganizationLevel'].astype('category')\n",
    "df_no_date['JobTitle'] = df_no_date['JobTitle'].astype('category')\n",
    "df_no_date['MaritalStatus'] = df_no_date['MaritalStatus'].astype('category')\n",
    "df_no_date['Gender'] = df_no_date['Gender'].astype('category')"
   ]
  },
  {
   "cell_type": "markdown",
   "metadata": {},
   "source": [
    "Fourthly we need to handle JobTitle, since originally it has 67 levels"
   ]
  },
  {
   "cell_type": "code",
   "execution_count": 10,
   "metadata": {
    "collapsed": false,
    "scrolled": true
   },
   "outputs": [
    {
     "name": "stdout",
     "output_type": "stream",
     "text": [
      "Production Technician - WC40                26\n",
      "Production Technician - WC50                26\n",
      "Production Technician - WC60                26\n",
      "Production Technician - WC30                25\n",
      "Production Technician - WC20                22\n",
      "Production Technician - WC10                17\n",
      "Production Technician - WC45                15\n",
      "Sales Representative                        14\n",
      "Buyer                                        9\n",
      "Marketing Specialist                         5\n",
      "Quality Assurance Technician                 4\n",
      "Application Specialist                       4\n",
      "Scheduling Assistant                         4\n",
      "Janitor                                      4\n",
      "Production Supervisor - WC40                 3\n",
      "Production Supervisor - WC60                 3\n",
      "Production Supervisor - WC30                 3\n",
      "Production Supervisor - WC45                 3\n",
      "Accounts Receivable Specialist               3\n",
      "Production Supervisor - WC10                 3\n",
      "Design Engineer                              3\n",
      "Marketing Assistant                          3\n",
      "Production Supervisor - WC50                 3\n",
      "Stocker                                      3\n",
      "Production Supervisor - WC20                 3\n",
      "Database Administrator                       2\n",
      "Human Resources Administrative Assistant     2\n",
      "Network Administrator                        2\n",
      "Control Specialist                           2\n",
      "Document Control Assistant                   2\n",
      "                                            ..\n",
      "Senior Tool Designer                         2\n",
      "Shipping and Receiving Clerk                 2\n",
      "Accounts Manager                             1\n",
      "Engineering Manager                          1\n",
      "Document Control Manager                     1\n",
      "Facilities Administrative Assistant          1\n",
      "Assistant to the Chief Financial Officer     1\n",
      "Chief Financial Officer                      1\n",
      "Chief Executive Officer                      1\n",
      "Benefits Specialist                          1\n",
      "European Sales Manager                       1\n",
      "Vice President of Sales                      1\n",
      "Facilities Manager                           1\n",
      "Finance Manager                              1\n",
      "Vice President of Engineering                1\n",
      "Shipping and Receiving Supervisor            1\n",
      "Senior Design Engineer                       1\n",
      "Quality Assurance Supervisor                 1\n",
      "Quality Assurance Manager                    1\n",
      "Purchasing Manager                           1\n",
      "Vice President of Production                 1\n",
      "Pacific Sales Manager                        1\n",
      "North American Sales Manager                 1\n",
      "Network Manager                              1\n",
      "Master Scheduler                             1\n",
      "Marketing Manager                            1\n",
      "Maintenance Supervisor                       1\n",
      "Information Services Manager                 1\n",
      "Human Resources Manager                      1\n",
      "Production Control Manager                   1\n",
      "Name: JobTitle, dtype: int64\n"
     ]
    }
   ],
   "source": [
    "#pre-process-4 handling JobTitle(originally 67 levels)\n",
    "#first check values distribution\n",
    "print df_no_date['JobTitle'].value_counts()"
   ]
  },
  {
   "cell_type": "code",
   "execution_count": 11,
   "metadata": {
    "collapsed": false,
    "scrolled": true
   },
   "outputs": [
    {
     "name": "stdout",
     "output_type": "stream",
     "text": [
      "\n",
      "The response rate of 0 for each level:\n",
      "(u'Document Control Manager', 1.0)\n",
      "(u'Production Supervisor - WC40', 1.0)\n",
      "(u'Production Supervisor - WC60', 1.0)\n",
      "(u'Quality Assurance Supervisor', 0.0)\n",
      "(u'Document Control Assistant', 1.0)\n",
      "(u'Production Supervisor - WC45', 1.0)\n",
      "(u'Facilities Administrative Assistant', 1.0)\n",
      "(u'Design Engineer', 0.0)\n",
      "(u'Vice President of Production', 0.0)\n",
      "(u'Network Manager', 0.0)\n",
      "(u'Research and Development Manager', 0.0)\n",
      "(u'Tool Designer', 1.0)\n",
      "(u'Production Supervisor - WC20', 1.0)\n",
      "(u'Accountant', 0.0)\n",
      "(u'Engineering Manager', 0.0)\n",
      "(u'Control Specialist', 1.0)\n",
      "(u'Senior Tool Designer', 1.0)\n",
      "(u'Production Technician - WC40', 1.0)\n",
      "(u'Marketing Specialist', 1.0)\n",
      "(u'Production Technician - WC60', 1.0)\n",
      "(u'Production Technician - WC20', 1.0)\n",
      "(u'Purchasing Manager', 0.0)\n",
      "(u'Human Resources Manager', 0.0)\n",
      "(u'Marketing Manager', 0.0)\n",
      "(u'Sales Representative', 0.0)\n",
      "(u'Senior Design Engineer', 0.0)\n",
      "(u'North American Sales Manager', 0.0)\n",
      "(u'Production Supervisor - WC50', 1.0)\n",
      "(u'Vice President of Sales', 0.0)\n",
      "(u'Marketing Assistant', 1.0)\n",
      "(u'Chief Executive Officer', 0.0)\n",
      "(u'Production Control Manager', 0.0)\n",
      "(u'Human Resources Administrative Assistant', 1.0)\n",
      "(u'Buyer', 1.0)\n",
      "(u'Stocker', 1.0)\n",
      "(u'Assistant to the Chief Financial Officer', 1.0)\n",
      "(u'Chief Financial Officer', 0.0)\n",
      "(u'Vice President of Engineering', 0.0)\n",
      "(u'Scheduling Assistant', 1.0)\n",
      "(u'Recruiter', 1.0)\n",
      "(u'Master Scheduler', 1.0)\n",
      "(u'Production Technician - WC30', 1.0)\n",
      "(u'Shipping and Receiving Clerk', 1.0)\n",
      "(u'Production Technician - WC50', 1.0)\n",
      "(u'Research and Development Engineer', 0.0)\n",
      "(u'Facilities Manager', 0.0)\n",
      "(u'Pacific Sales Manager', 0.0)\n",
      "(u'Purchasing Assistant', 1.0)\n",
      "(u'Shipping and Receiving Supervisor', 0.0)\n",
      "(u'Production Supervisor - WC30', 1.0)\n",
      "(u'Janitor', 1.0)\n",
      "(u'Production Technician - WC10', 1.0)\n",
      "(u'Accounts Receivable Specialist', 1.0)\n",
      "(u'Network Administrator', 1.0)\n",
      "(u'Database Administrator', 0.0)\n",
      "(u'Production Supervisor - WC10', 1.0)\n",
      "(u'Accounts Manager', 0.0)\n",
      "(u'Finance Manager', 0.0)\n",
      "(u'Quality Assurance Manager', 0.0)\n",
      "(u'Quality Assurance Technician', 1.0)\n",
      "(u'Application Specialist', 0.0)\n",
      "(u'Benefits Specialist', 1.0)\n",
      "(u'Accounts Payable Specialist', 1.0)\n",
      "(u'Production Technician - WC45', 1.0)\n",
      "(u'European Sales Manager', 0.0)\n",
      "(u'Maintenance Supervisor', 0.0)\n",
      "(u'Information Services Manager', 0.0)\n"
     ]
    }
   ],
   "source": [
    "#calculate for each level the rate of response of 0 and 1\n",
    "flag0 = {}\n",
    "flag1 = {}\n",
    "for i, title in enumerate(df_no_date['JobTitle']):\n",
    "     flag0[title] = (df_no_date[(df_no_date['SalariedFlag'] == 0) & (df_no_date['JobTitle'] == title)]).shape[0]\n",
    "     flag1[title] = (df_no_date[(df_no_date['SalariedFlag'] == 1) & (df_no_date['JobTitle'] == title)]).shape[0]\n",
    "# calculate 0 rate of each level\n",
    "\n",
    "title_rate = {}\n",
    "for key in flag0.keys():\n",
    "    title_rate[key] = float(flag0[key])/float(flag0[key] + flag1[key])\n",
    "\n",
    "print(\"\")\n",
    "print (\"The response rate of 0 for each level:\" )\n",
    "for k, v in title_rate.iteritems():\n",
    "    print (k, v)"
   ]
  },
  {
   "cell_type": "markdown",
   "metadata": {},
   "source": [
    "We can see every title must corresponds to 0 or 1.\n",
    "\n",
    "\n",
    "If these records represent all possible titles, we may only use title to determine SalaryFlag.\n",
    "\n",
    "\n",
    "But if there will be other titles besides these ones, we need to predict SalaryFlag with other predictors\n",
    "\n",
    "\n",
    "Therefore here we drop JobTitle from classification model"
   ]
  },
  {
   "cell_type": "code",
   "execution_count": 12,
   "metadata": {
    "collapsed": true
   },
   "outputs": [],
   "source": [
    "df_no_title = df_no_date.drop(['JobTitle'], 1)"
   ]
  },
  {
   "cell_type": "markdown",
   "metadata": {},
   "source": [
    "Fifthly, we create dummy variables for categorical variables"
   ]
  },
  {
   "cell_type": "code",
   "execution_count": 13,
   "metadata": {
    "collapsed": false,
    "scrolled": true
   },
   "outputs": [],
   "source": [
    "#pre-process-5 create dummy variables for categorical variables\n",
    "df_done = pd.get_dummies(df_no_title, columns = ['OrganizationLevel','MaritalStatus', 'Gender'])"
   ]
  },
  {
   "cell_type": "markdown",
   "metadata": {},
   "source": [
    "\n",
    "\n",
    "By now we complete the pre-processing of data.\n",
    "\n",
    "\n",
    "Then we begin to build models and compare them.\n",
    "\n",
    "Here Logistic Regression and Random Forest are used for classification.\n",
    "\n",
    "Since it's a classification problem, we use accuracy as the performance evaluation metric"
   ]
  },
  {
   "cell_type": "code",
   "execution_count": 14,
   "metadata": {
    "collapsed": false,
    "scrolled": true
   },
   "outputs": [],
   "source": [
    "#modeling and comparison--using default parameters\n",
    "#split data into 80% training set and 20% testing set\n",
    "X_train, X_test, y_train, y_test = train_test_split(df_done.ix[:, 1:], df_done['SalariedFlag'], \n",
    "                                                    test_size = 0.2, random_state = 0)"
   ]
  },
  {
   "cell_type": "code",
   "execution_count": 15,
   "metadata": {
    "collapsed": false
   },
   "outputs": [
    {
     "name": "stdout",
     "output_type": "stream",
     "text": [
      "The accuracy of Logistic Regression model with default parameters is : \n",
      "\n",
      "0.827586206897\n"
     ]
    }
   ],
   "source": [
    "#Logistic Regression\n",
    "model_LR = LogisticRegression()\n",
    "model_LR.fit(X_train, y_train)\n",
    "predicted = model_LR.predict(X_test)\n",
    "#probs = model_LR.predict_proba(X_test)\n",
    "\n",
    "# generate evaluation metrics\n",
    "print (\"The accuracy of Logistic Regression model with default parameters is : \")\n",
    "print (\"\")\n",
    "print metrics.accuracy_score(y_test, predicted)"
   ]
  },
  {
   "cell_type": "markdown",
   "metadata": {
    "collapsed": false,
    "scrolled": true
   },
   "source": [
    "Then we build Random Forest model for classification"
   ]
  },
  {
   "cell_type": "code",
   "execution_count": 16,
   "metadata": {
    "collapsed": false,
    "scrolled": true
   },
   "outputs": [
    {
     "name": "stdout",
     "output_type": "stream",
     "text": [
      "The accuracy of Random Forest model with default parameters is : \n",
      "\n",
      "0.862068965517\n"
     ]
    }
   ],
   "source": [
    "#Random Forest with default parameters\n",
    "model_RF = RandomForestClassifier()\n",
    "model_RF.fit(X_train, y_train)\n",
    "results = model_RF.predict(X_test)\n",
    "print (\"The accuracy of Random Forest model with default parameters is : \")\n",
    "print (\"\")\n",
    "print accuracy_score(y_test, results)"
   ]
  },
  {
   "cell_type": "code",
   "execution_count": 17,
   "metadata": {
    "collapsed": false,
    "scrolled": true
   },
   "outputs": [
    {
     "data": {
      "image/png": "[encoded data removed]",
      "text/plain": [
       "<matplotlib.figure.Figure at 0x96eafd0>"
      ]
     },
     "metadata": {},
     "output_type": "display_data"
    }
   ],
   "source": [
    "#plot the feature importance\n",
    "importances = model_RF.feature_importances_\n",
    "feature_importance = 100.0 * (importances / importances.max())\n",
    "sorted_idx = np.argsort(feature_importance)\n",
    "pos = np.arange(sorted_idx.shape[0]) + .5\n",
    "plt.barh(pos, feature_importance[sorted_idx], align = 'center')\n",
    "arr = np.array(list(df_done.columns.values)[1:])\n",
    "plt.yticks(pos, arr[sorted_idx])\n",
    "plt.xlabel('Relative Importance')\n",
    "plt.title('Feature Importance')\n",
    "plt.show()"
   ]
  },
  {
   "cell_type": "code",
   "execution_count": 18,
   "metadata": {
    "collapsed": false,
    "scrolled": true
   },
   "outputs": [
    {
     "name": "stdout",
     "output_type": "stream",
     "text": [
      "The accuracy of Random Forest model with default parameters and important predictors is : \n",
      "\n",
      "0.948275862069\n"
     ]
    }
   ],
   "source": [
    "#Random Forest only using important features to predict\n",
    "df_new = df_done[['OrganizationLevel_4', 'VacationHours', 'SickLeaveHours', 'Work_Duration', 'Age',\n",
    "                  'OrganizationLevel_2', 'OrganizationLevel_3']]\n",
    "X_train_new, X_test_new, y_train_new, y_test_new = train_test_split(df_new, df_done['SalariedFlag'], \n",
    "                                                    test_size = 0.2, random_state = 100)\n",
    "model_RF_new = RandomForestClassifier()\n",
    "model_RF_new.fit(X_train_new, y_train_new)\n",
    "results_new = model_RF_new.predict(X_test_new)\n",
    "\n",
    "print (\"The accuracy of Random Forest model with default parameters and important predictors is : \")\n",
    "print (\"\")\n",
    "print accuracy_score(y_test_new, results_new)"
   ]
  },
  {
   "cell_type": "markdown",
   "metadata": {},
   "source": [
    "We can see the Random Forest with only important predictors is the best model comparing with Logistic Regression model and Random Forest with all predictors.\n",
    "\n",
    "In the following section we will optimize hyperparameters using grid search for both models"
   ]
  },
  {
   "cell_type": "code",
   "execution_count": 19,
   "metadata": {
    "collapsed": false
   },
   "outputs": [
    {
     "name": "stdout",
     "output_type": "stream",
     "text": [
      "The parameters of Logistic Regression model are: \n",
      "{'warm_start': False, 'C': 1.0, 'n_jobs': 1, 'verbose': 0, 'intercept_scaling': 1, 'fit_intercept': True, 'max_iter': 100, 'penalty': 'l2', 'multi_class': 'ovr', 'random_state': None, 'dual': False, 'tol': 0.0001, 'solver': 'liblinear', 'class_weight': None}\n",
      "\n",
      "The parameters of Random Forest model are: \n",
      "{'warm_start': False, 'oob_score': False, 'n_jobs': 1, 'verbose': 0, 'max_leaf_nodes': None, 'bootstrap': True, 'min_samples_leaf': 1, 'n_estimators': 10, 'min_samples_split': 2, 'min_weight_fraction_leaf': 0.0, 'criterion': 'gini', 'random_state': None, 'max_features': 'auto', 'max_depth': None, 'class_weight': None}\n"
     ]
    }
   ],
   "source": [
    "#Hyperparameter optimization using grid search\n",
    "\n",
    "#get parameters list of classifier\n",
    "print (\"The parameters of Logistic Regression model are: \")\n",
    "print model_LR.get_params()\n",
    "\n",
    "print(\"\")\n",
    "\n",
    "print (\"The parameters of Random Forest model are: \")\n",
    "print model_RF_new.get_params()"
   ]
  },
  {
   "cell_type": "code",
   "execution_count": 20,
   "metadata": {
    "collapsed": true
   },
   "outputs": [],
   "source": [
    "# Utility function to report best scores\n",
    "def report(grid_scores, n_top=3):\n",
    "    top_scores = sorted(grid_scores, key=itemgetter(1), reverse=True)[:n_top]\n",
    "    for i, score in enumerate(top_scores):\n",
    "        print(\"Model with rank: {0}\".format(i + 1))\n",
    "        print(\"Mean validation score: {0:.3f} (std: {1:.3f})\".format(\n",
    "              score.mean_validation_score,\n",
    "              np.std(score.cv_validation_scores)))\n",
    "        print(\"Parameters: {0}\".format(score.parameters))\n",
    "        print(\"\")"
   ]
  },
  {
   "cell_type": "code",
   "execution_count": 21,
   "metadata": {
    "collapsed": false
   },
   "outputs": [
    {
     "name": "stdout",
     "output_type": "stream",
     "text": [
      "GridSearchCV took 0.29 seconds for 14 candidate parameter settings.\n",
      "Model with rank: 1\n",
      "Mean validation score: 0.909 (std: 0.011)\n",
      "Parameters: {'penalty': 'l1', 'C': 10}\n",
      "\n",
      "Model with rank: 2\n",
      "Mean validation score: 0.909 (std: 0.011)\n",
      "Parameters: {'penalty': 'l2', 'C': 10}\n",
      "\n",
      "Model with rank: 3\n",
      "Mean validation score: 0.905 (std: 0.017)\n",
      "Parameters: {'penalty': 'l1', 'C': 100}\n",
      "\n"
     ]
    }
   ],
   "source": [
    "#grid search for Logistic Regression and train from the training set\n",
    "param_grid_LR = {'C': [0.001, 0.01, 0.1, 1, 10, 100, 1000],\n",
    "              'penalty': ['l1', 'l2']}\n",
    "grid_search_LR = GridSearchCV(model_LR, param_grid_LR)\n",
    "start = time()\n",
    "grid_search_LR.fit(X_train, y_train)\n",
    "print(\"GridSearchCV took %.2f seconds for %d candidate parameter settings.\"\n",
    "      % (time() - start, len(grid_search_LR.grid_scores_)))\n",
    "report(grid_search_LR.grid_scores_)"
   ]
  },
  {
   "cell_type": "code",
   "execution_count": 22,
   "metadata": {
    "collapsed": false
   },
   "outputs": [
    {
     "name": "stdout",
     "output_type": "stream",
     "text": [
      "The accuracy of Logistic Regression model with optimized parameters is : \n",
      "0.827586206897\n"
     ]
    }
   ],
   "source": [
    "# check if optimized paramters will improve model performance\n",
    "model_LR_opt = LogisticRegression(C = 10, penalty = 'l1')\n",
    "\n",
    "model_LR_opt.fit(X_train, y_train)\n",
    "predicted_opt = model_LR_opt.predict(X_test)\n",
    "\n",
    "print (\"The accuracy of Logistic Regression model with optimized parameters is : \")\n",
    "print metrics.accuracy_score(y_test, predicted_opt)"
   ]
  },
  {
   "cell_type": "markdown",
   "metadata": {},
   "source": [
    "Here we can see we don't  get improvement after grid search and hyparameter optimization for Logistic Regression comparing with model with default parameters."
   ]
  },
  {
   "cell_type": "code",
   "execution_count": 23,
   "metadata": {
    "collapsed": false
   },
   "outputs": [
    {
     "name": "stdout",
     "output_type": "stream",
     "text": [
      "GridSearchCV took 66.09 seconds for 24 candidate parameter settings.\n",
      "Model with rank: 1\n",
      "Mean validation score: 0.935 (std: 0.021)\n",
      "Parameters: {'n_estimators': 500, 'min_samples_leaf': 1}\n",
      "\n",
      "Model with rank: 2\n",
      "Mean validation score: 0.931 (std: 0.012)\n",
      "Parameters: {'n_estimators': 10, 'min_samples_leaf': 1}\n",
      "\n",
      "Model with rank: 3\n",
      "Mean validation score: 0.931 (std: 0.016)\n",
      "Parameters: {'n_estimators': 100, 'min_samples_leaf': 2}\n",
      "\n"
     ]
    }
   ],
   "source": [
    "#grid search for Random Forest, here we use Random Forest with only important parameters-the best model\n",
    "#specify parameters and distributions to sample from\n",
    "param_grid_RF = {\"n_estimators\": [10, 100, 500, 1000],\n",
    "              \"min_samples_leaf\": [1,2,3,4,5,6]}\n",
    "grid_search_RF = GridSearchCV(model_RF_new, param_grid = param_grid_RF)\n",
    "start = time()\n",
    "grid_search_RF.fit(X_train_new, y_train_new)\n",
    "\n",
    "print(\"GridSearchCV took %.2f seconds for %d candidate parameter settings.\"\n",
    "      % (time() - start, len(grid_search_RF.grid_scores_)))\n",
    "report(grid_search_RF.grid_scores_)"
   ]
  },
  {
   "cell_type": "code",
   "execution_count": 24,
   "metadata": {
    "collapsed": false
   },
   "outputs": [
    {
     "name": "stdout",
     "output_type": "stream",
     "text": [
      "The accuracy of Random Forest model with optimized parameters is : \n",
      "0.965517241379\n"
     ]
    }
   ],
   "source": [
    "#Random Forest only using important features with optimized parameters to predict\n",
    "model_RF_opt = RandomForestClassifier(n_estimators = 500,  min_samples_leaf = 1)\n",
    "model_RF_opt.fit(X_train_new, y_train_new)\n",
    "results_opt = model_RF_opt.predict(X_test_new)\n",
    "\n",
    "print (\"The accuracy of Random Forest model with optimized parameters is : \")\n",
    "print accuracy_score(y_test_new, results_opt)"
   ]
  },
  {
   "cell_type": "markdown",
   "metadata": {},
   "source": [
    "Here we can see we've got improvement after grid search and hyparameter optimization for Random Forest\n",
    "\n",
    "\n",
    "Finally we train the best model on the entire data set using the best hyperparameters found"
   ]
  },
  {
   "cell_type": "code",
   "execution_count": 25,
   "metadata": {
    "collapsed": false
   },
   "outputs": [
    {
     "name": "stdout",
     "output_type": "stream",
     "text": [
      "The accuracy of Random Forest model with optimized parameters on entire data set is : \n",
      "1.0\n"
     ]
    }
   ],
   "source": [
    "#Train Random Forest model on the entire data set using the best hyperparameters found\n",
    "#Random Forest only using important features to predict\n",
    "model_RF_opt_all = RandomForestClassifier(n_estimators = 500,  min_samples_leaf = 1)\n",
    "model_RF_opt_all.fit(df_new, df_done['SalariedFlag'])\n",
    "results_opt_all = model_RF_opt_all.predict(df_new)\n",
    "\n",
    "print (\"The accuracy of Random Forest model with optimized parameters on entire data set is : \")\n",
    "print accuracy_score(df_done['SalariedFlag'], results_opt_all)"
   ]
  },
  {
   "cell_type": "markdown",
   "metadata": {},
   "source": [
    "Summary:\n",
    "\n",
    "--During pre-processing, we removed 6 columns (\"BusinessEntityID\", \"NationalIDNumber\", \"LoginID\", \"OrganizationNode\", \"rowguid\", \"CurrentFlag\") since they have unique value for each record, or only one value for all records. Also we transformed datetime variables to duration: substitute BirthDate with Age, HireDate with Work_Duration. Another transformation is to convert non-numeric variables into category type.\n",
    "Also we find JobTitle is complete separation, then we also dropped it from classification.\n",
    "\n",
    "--With default hyperparameters we built two models: Logistics Regression and Random Forest. Apparently Random Forest with most important predictors is the best model.\n",
    "\n",
    "--Then we implemented grid searches over two common hyperparameters for each method. For Logistics Regression we tuned C and penalty, for Random Forest we tuned n_estimators and min_samples_leaf.\n",
    "\n",
    "--For Logistics Regression, the best hyperparameters found by grid search are C = 10, penalty = 'l1', which seemed like not improve the performance of model comparing with the defaults (C = 1.0, penalty = 'l2').\n",
    "\n",
    "\n",
    "--For Random Forest, the best hyperparameters found by grid search are n_estimators = 500, min_samples_leaf = 1, which indeed improved the performance  of model comparing with the defaults (n_estimators = 10, min_samples_leaf = 1)\n",
    "\n",
    "--Finally we train the best model on the entire data set using the best hyperparameters found."
   ]
  }
 ],
 "metadata": {
  "anaconda-cloud": {},
  "kernelspec": {
   "display_name": "Python [py2]",
   "language": "python",
   "name": "Python [py2]"
  },
  "language_info": {
   "codemirror_mode": {
    "name": "ipython",
    "version": 2
   },
   "file_extension": ".py",
   "mimetype": "text/x-python",
   "name": "python",
   "nbconvert_exporter": "python",
   "pygments_lexer": "ipython2",
   "version": "2.7.12"
  }
 },
 "nbformat": 4,
 "nbformat_minor": 0
}
