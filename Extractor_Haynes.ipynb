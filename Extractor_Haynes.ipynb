{
 "cells": [
  {
   "cell_type": "code",
   "execution_count": 34,
   "metadata": {
    "collapsed": true
   },
   "outputs": [],
   "source": [
    "# webpage extraction with beautifulsoup\n",
    "import urllib2\n",
    "from bs4 import BeautifulSoup\n",
    "\n",
    "#specify the url\n",
    "manual = 'https://haynes.com/en-us/car-manuals/car-makes'\n",
    "\n",
    "#Query the website and return the html to the variable 'page'\n",
    "page = urllib2.urlopen(manual)"
   ]
  },
  {
   "cell_type": "code",
   "execution_count": 35,
   "metadata": {
    "collapsed": false
   },
   "outputs": [],
   "source": [
    "soup = BeautifulSoup(page)"
   ]
  },
  {
   "cell_type": "code",
   "execution_count": null,
   "metadata": {
    "collapsed": false
   },
   "outputs": [],
   "source": [
    "print soup.prettify()"
   ]
  },
  {
   "cell_type": "code",
   "execution_count": 75,
   "metadata": {
    "collapsed": false
   },
   "outputs": [],
   "source": [
    "makes = soup.find_all(\"div\", class_=\"item-list\")[1]\n",
    "links_makes = makes.find_all(\"div\", class_ = \"views-field views-field-nothing\")"
   ]
  },
  {
   "cell_type": "code",
   "execution_count": 80,
   "metadata": {
    "collapsed": false,
    "scrolled": true
   },
   "outputs": [
    {
     "name": "stdout",
     "output_type": "stream",
     "text": [
      "['https://haynes.com/en-us/car-manuals/acura', 'https://haynes.com/en-us/car-manuals/amc', 'https://haynes.com/en-us/car-manuals/audi', 'https://haynes.com/en-us/car-manuals/austin-healey', 'https://haynes.com/en-us/car-manuals/bmw', 'https://haynes.com/en-us/car-manuals/buick', 'https://haynes.com/en-us/car-manuals/cadillac', 'https://haynes.com/en-us/car-manuals/chevrolet', 'https://haynes.com/en-us/car-manuals/chrysler', 'https://haynes.com/en-us/car-manuals/datsun', 'https://haynes.com/en-us/car-manuals/dodge', 'https://haynes.com/en-us/car-manuals/eagle', 'https://haynes.com/en-us/car-manuals/fiat', 'https://haynes.com/en-us/car-manuals/ford', 'https://haynes.com/en-us/car-manuals/geo', 'https://haynes.com/en-us/car-manuals/gmc', 'https://haynes.com/en-us/car-manuals/honda', 'https://haynes.com/en-us/car-manuals/hyundai', 'https://haynes.com/en-us/car-manuals/infiniti', 'https://haynes.com/en-us/car-manuals/isuzu', 'https://haynes.com/en-us/car-manuals/jaguar', 'https://haynes.com/en-us/car-manuals/jeep', 'https://haynes.com/en-us/car-manuals/kia', 'https://haynes.com/en-us/car-manuals/lexus', 'https://haynes.com/en-us/car-manuals/lincoln', 'https://haynes.com/en-us/car-manuals/mazda', 'https://haynes.com/en-us/car-manuals/mercedes-benz', 'https://haynes.com/en-us/car-manuals/mercury', 'https://haynes.com/en-us/car-manuals/mg', 'https://haynes.com/en-us/car-manuals/mini', 'https://haynes.com/en-us/car-manuals/mitsubishi', 'https://haynes.com/en-us/car-manuals/nissan', 'https://haynes.com/en-us/car-manuals/oldsmobile', 'https://haynes.com/en-us/car-manuals/plymouth', 'https://haynes.com/en-us/car-manuals/pontiac', 'https://haynes.com/en-us/car-manuals/porsche', 'https://haynes.com/en-us/car-manuals/ram', 'https://haynes.com/en-us/car-manuals/renault', 'https://haynes.com/en-us/car-manuals/saab', 'https://haynes.com/en-us/car-manuals/saturn', 'https://haynes.com/en-us/car-manuals/subaru', 'https://haynes.com/en-us/car-manuals/suzuki', 'https://haynes.com/en-us/car-manuals/toyota', 'https://haynes.com/en-us/car-manuals/triumph-cars', 'https://haynes.com/en-us/car-manuals/volkswagen', 'https://haynes.com/en-us/car-manuals/volvo']\n"
     ]
    }
   ],
   "source": [
    "list_makes = []\n",
    "prefix = \"https://haynes.com\"\n",
    "for make in links_makes:\n",
    "    list_makes.append(prefix + make.a[\"href\"])    "
   ]
  },
  {
   "cell_type": "code",
   "execution_count": 105,
   "metadata": {
    "collapsed": false
   },
   "outputs": [],
   "source": [
    "#Query the website and return the html to the variable 'page'\n",
    "list_models = []\n",
    "\n",
    "for link in list_makes:\n",
    "    page_temp = urllib2.urlopen(link)\n",
    "    soup_temp = BeautifulSoup(page_temp)\n",
    "    model_temp = soup_temp.find_all(\"div\", class_=\"item-list\")[1]\n",
    "    links_model = model_temp.find_all(\"li\")\n",
    "    for model in links_model:\n",
    "        list_models.append(model.a[\"href\"])\n"
   ]
  },
  {
   "cell_type": "code",
   "execution_count": null,
   "metadata": {
    "collapsed": true
   },
   "outputs": [],
   "source": [
    "result = []\n",
    "for link in list_models:\n",
    "    # 3 types of links\n",
    "    # 1-result of a search, go to next level\n",
    "    if \"search?query\" in link:\n",
    "        page_temp = urllib2.urlopen(link)\n",
    "        soup_temp = BeautifulSoup(page_temp)\n",
    "        model_temp = soup_temp.find_all(\"div\", class_=\"product-teaser-title\")[1]\n",
    "        for item in model_temp:\n",
    "            link = prefix + item.a[\"href\"]\n",
    "            page_1 = urllib2.urlopen(link)\n",
    "            soup_1 = BeautifulSoup(page_1)\n",
    "            title = soup_1.find(\"h1\", class_=\"product-title\").get_text()\n",
    "            price = soup_1.find(\"span\", class_=\"price-amount commerce-price-savings-formatter-price\").get_text()\n",
    "            body = soup_1.find_all(\"div\", class_=\"field-item even\")\n",
    "            Format = body[2].get_text()\n",
    "            decription = body[4].get_text() + body[5].get_text()+ body[6].get_text() + body[7].get_text()\n",
    "            table = body[8].get_text()\n",
    "            part_no = body[9].get_text()\n",
    "            dimensions = body[10].get_text()\n",
    "            \n",
    "\n",
    "            \n",
    "            \n",
    "    \n",
    "    #check if this is the final page we are looking for\n",
    "    model_temp = soup_temp.find_all(\"div\", class_=\"item-list\")[1]\n",
    "    # 2-need to go to next level by \"more info\"\n",
    "    \n",
    "    # 3-final page\n",
    "    \n",
    "    page_temp = urllib2.urlopen(link)\n",
    "    soup_temp = BeautifulSoup(page_temp)\n",
    "    \n",
    "    model_temp = soup_temp.find_all(\"div\", class_=\"item-list\")[1]\n",
    "    links_model = model_temp.find_all(\"li\")\n",
    "    for model in links_model:\n",
    "        list_models.append(model.a[\"href\"])"
   ]
  },
  {
   "cell_type": "code",
   "execution_count": 240,
   "metadata": {
    "collapsed": false,
    "scrolled": false
   },
   "outputs": [],
   "source": [
    "page_temp = urllib2.urlopen(\"https://haynes.com/en-us/ford-full-size-econoline-e-100-e-350-petrol-vans-1969-1991-haynes-repair-manual\")\n",
    "soup_temp = BeautifulSoup(page_temp)\n",
    "#print soup_temp.prettify()\n",
    "price = soup_temp.find(\"span\", class_=\"price-amount commerce-price-savings-formatter-price\").get_text()\n",
    "body = soup_temp.find_all(\"div\", class_=\"field-item even\")\n",
    "Format = body[2].get_text() \n",
    "Description = body[9].get_text()"
   ]
  },
  {
   "cell_type": "code",
   "execution_count": 241,
   "metadata": {
    "collapsed": false
   },
   "outputs": [
    {
     "name": "stdout",
     "output_type": "stream",
     "text": [
      "36090\n"
     ]
    }
   ],
   "source": [
    "print Description"
   ]
  },
  {
   "cell_type": "code",
   "execution_count": 225,
   "metadata": {
    "collapsed": false
   },
   "outputs": [
    {
     "name": "stdout",
     "output_type": "stream",
     "text": [
      "[<div class=\"field-item even\"><h1 class=\"product-title\">Ford full-size Econoline E-100-E-350 petrol vans (1969-1991) Haynes Repair Manual</h1>\\n</div>, <div class=\"field-item even\"><div class=\"field field-type-commerce-price-element field-type-commerce-price-element-price\"><label class=\"price-label\">List Price</label><span class=\"price-amount commerce-price-savings-formatter-price\">$29.95</span></div></div>, <div class=\"field-item even\">Paperback</div>, <div class=\"field-item even\"><form accept-charset=\"UTF-8\" action=\"/en-us/ford-full-size-econoline-e-100-e-350-petrol-vans-1969-1991-haynes-repair-manual\" class=\"commerce-add-to-cart commerce-cart-add-to-cart-form-632785\" id=\"commerce-cart-add-to-cart-form-632785\" method=\"post\"><input name=\"product_id\" type=\"hidden\" value=\"632785\"/>\\n<input name=\"form_build_id\" type=\"hidden\" value=\"form-xdFdTyUI_1KroaHEGjddis8w697Sm-Ov2g2CK41KnH4\"/>\\n<input name=\"form_id\" type=\"hidden\" value=\"commerce_cart_add_to_cart_form_632785\"/>\\n<div class=\"form-wrapper\" id=\"edit-line-item-fields\"></div><div class=\"form-item-quantity form-required\">\\n<label for=\"edit-quantity\">Quantity</label>\\n<span class=\"commerce-quantity-plusminus-link commerce-quantity-plusminus-link-decrease commerce-quantity-plusminus-link-disabled\"><a class=\"button\" href=\"/en-us/ford-full-size-econoline-e-100-e-350-petrol-vans-1969-1991-haynes-repair-manual\" onclick=\"Drupal.commerce_extra_quantity_quantity('#edit-quantity', -1); return false;\">-</a></span><input class=\"product-display-quantity\" id=\"edit-quantity\" maxlength=\"128\" name=\"quantity\" size=\"30\" type=\"text\" value=\"1\"/><span class=\"commerce-quantity-plusminus-link commerce-quantity-plusminus-link-increase commerce-quantity-plusminus-link-disabled\"><a class=\"button\" href=\"/en-us/ford-full-size-econoline-e-100-e-350-petrol-vans-1969-1991-haynes-repair-manual\" onclick=\"Drupal.commerce_extra_quantity_quantity('#edit-quantity', 1); return false;\">+</a></span>\\n</div>\\n<input class=\"form-submit\" id=\"edit-submit\" name=\"op\" type=\"submit\" value=\"Add to cart\"/></form></div>, <div class=\"field-item even\"><p>Complete coverage for your Ford Full-size Van covering Econoline E-100 thru E-350 with gasoline engines for 1969-1991:<br/>\\nRoutine Maintenance<br/>\\nTune-up procedures<br/>\\nEngine repair<br/>\\nCooling and heating<br/>\\nAir Conditioning<br/>\\nFuel and exhaust<br/>\\nEmissions control<br/>\\nIgnition<br/>\\nBrakes<br/>\\nSuspension and steering<br/>\\nElectrical systems<br/>\\nWiring diagrams</p>\\n</div>, <div class=\"field-item even\"><p>With a Haynes manual, you can do it yourself\\u2026from simple maintenance to basic repairs. Haynes writes every book based on a complete teardown of the vehicle. We learn the best ways to do a job and that makes it quicker, easier and cheaper for you. Our books have clear instructions and hundreds of photographs that show each step. Whether you\\u2019re a beginner or a pro, you can save big with Haynes!<br/>\\n--Step-by-step procedures<br/>\\n--Easy-to-follow photos<br/>\\n--Complete troubleshooting section<br/>\\n--Valuable short cuts<br/>\\n--Color spark plug diagnosis</p>\\n</div>, <div class=\"field-item even\"><p>Ford full-size Econoline E-100-E-350 petrol vans (1969-1991) Haynes Repair Manual</p>\\n</div>, <div class=\"field-item even\"><p>Does not include information specific to diesel engines</p>\\n</div>, <div class=\"field-item even\"><p>Introduction<br/>\\nChapter 1: Tune-up and routine maintenance<br/>\\nChapter 2: Part A: Six cylinder inline engines<br/>\\nChapter 2: Part B: V8 engines<br/>\\nChapter 2: Part C: General engine overhaul procedures<br/>\\nChapter 3: Cooling, heating and air conditioning systems<br/>\\nChapter 4: Fuel and exhaust systems<br/>\\nChapter 5: Engine electrical systems<br/>\\nChapter 6: Emissions and engine control systems<br/>\\nChapter 7: Manual and automatic transmissions<br/>\\nChapter 8: Clutch and driveline<br/>\\nChapter 9: Brakes<br/>\\nChapter 10: Suspension and steering systems<br/>\\nChapter 11: Body<br/>\\nChapter 12: Chassis electrical system<br/>\\nWiring Diagrams</p>\\n</div>, <div class=\"field-item even\">36090</div>, <div class=\"field-item even\">8.5 x 11</div>, <div class=\"field-item even\">240</div>, <div class=\"field-item even\">9781563920295</div>, <div class=\"field-item even\">1563920298</div>, <div class=\"field-item even\">038345003448</div>, <div class=\"field-item even\"><time content=\"2016-05-26T00:00:00-07:00\" datatype=\"xsd:dateTime\" datetime=\"2016-05-26T00:00:00-07:00\" property=\"dc:date\">Thursday, May 26, 2016</time></div>, <div class=\"field-item even\">English</div>]\n"
     ]
    }
   ],
   "source": [
    "print body"
   ]
  },
  {
   "cell_type": "code",
   "execution_count": null,
   "metadata": {
    "collapsed": true
   },
   "outputs": [],
   "source": []
  }
 ],
 "metadata": {
  "anaconda-cloud": {},
  "kernelspec": {
   "display_name": "Python [default]",
   "language": "python",
   "name": "python2"
  },
  "language_info": {
   "codemirror_mode": {
    "name": "ipython",
    "version": 2
   },
   "file_extension": ".py",
   "mimetype": "text/x-python",
   "name": "python",
   "nbconvert_exporter": "python",
   "pygments_lexer": "ipython2",
   "version": "2.7.12"
  }
 },
 "nbformat": 4,
 "nbformat_minor": 1
}
