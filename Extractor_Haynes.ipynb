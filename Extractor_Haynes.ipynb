{
 "cells": [
  {
   "cell_type": "code",
   "execution_count": 1,
   "metadata": {
    "collapsed": true
   },
   "outputs": [],
   "source": [
    "# webpage extraction with beautifulsoup\n",
    "import urllib2\n",
    "from bs4 import BeautifulSoup\n",
    "\n",
    "#specify the url\n",
    "manual = 'https://haynes.com/en-us/car-manuals/car-makes'\n",
    "\n",
    "#Query the website and return the html to the variable 'page'\n",
    "page = urllib2.urlopen(manual)"
   ]
  },
  {
   "cell_type": "code",
   "execution_count": 2,
   "metadata": {
    "collapsed": false
   },
   "outputs": [],
   "source": [
    "soup = BeautifulSoup(page, \"lxml\")"
   ]
  },
  {
   "cell_type": "code",
   "execution_count": null,
   "metadata": {
    "collapsed": false
   },
   "outputs": [],
   "source": [
    "print soup.prettify()"
   ]
  },
  {
   "cell_type": "code",
   "execution_count": 4,
   "metadata": {
    "collapsed": false
   },
   "outputs": [],
   "source": [
    "makes = soup.find_all(\"div\", class_=\"item-list\")[1]\n",
    "links_makes = makes.find_all(\"div\", class_ = \"views-field views-field-nothing\")"
   ]
  },
  {
   "cell_type": "code",
   "execution_count": 5,
   "metadata": {
    "collapsed": false,
    "scrolled": true
   },
   "outputs": [],
   "source": [
    "list_makes = []\n",
    "prefix = \"https://haynes.com\"\n",
    "for make in links_makes:\n",
    "    list_makes.append(prefix + make.a[\"href\"])    "
   ]
  },
  {
   "cell_type": "code",
   "execution_count": 6,
   "metadata": {
    "collapsed": false
   },
   "outputs": [],
   "source": [
    "#Query the website and return the html to the variable 'page'\n",
    "list_models = []\n",
    "\n",
    "for link in list_makes:\n",
    "    page_temp = urllib2.urlopen(link)\n",
    "    soup_temp = BeautifulSoup(page_temp, \"lxml\")\n",
    "    model_temp = soup_temp.find_all(\"div\", class_=\"item-list\")[1]\n",
    "    links_model = model_temp.find_all(\"li\")\n",
    "    for model in links_model:\n",
    "        list_models.append(model.a[\"href\"])\n"
   ]
  },
  {
   "cell_type": "code",
   "execution_count": 10,
   "metadata": {
    "collapsed": false
   },
   "outputs": [],
   "source": [
    "def extract_info(link, result):\n",
    "    import re\n",
    "    page_1 = urllib2.urlopen(link)\n",
    "    soup_1 = BeautifulSoup(page_1)\n",
    "    title = soup_1.find(\"h1\", class_=\"product-title\").get_text()\n",
    "    price = soup_1.find(\"span\", class_=\"price-amount commerce-price-savings-formatter-price\").get_text()\n",
    "            \n",
    "    body = soup_1.find_all(\"div\", class_=\"field-item even\")\n",
    "    \n",
    "    Format = body[2].get_text()\n",
    "    decription = body[4].get_text() + body[5].get_text()+ body[6].get_text() + body[7].get_text()\n",
    "    description = decription.encode('utf-8')\n",
    "    \n",
    "    table = body[8].get_text()\n",
    "    part_no = soup_1.findAll('div', text = re.compile('Part number'), attrs = {'class' : 'field-item even'})\n",
    "    dimensions = soup_1.findAll('div', text = re.compile('Dimensions'), attrs = {'class' : 'field-item even'})\n",
    "    pages = soup_1.findAll('div', text = re.compile('# of pages'), attrs = {'class' : 'field-item even'})\n",
    "    ISBN13 = soup_1.findAll('div', text = re.compile('ISBN-13'), attrs = {'class' : 'field-item even'})\n",
    "    ISBN10 = soup_1.findAll('div', text = re.compile('ISBN-10'), attrs = {'class' : 'field-item even'})\n",
    "    UPC = soup_1.findAll('div', text = re.compile('UPC'), attrs = {'class' : 'field-item even'})\n",
    "    publish_date = soup_1.findAll('div', text = re.compile('Publication date'), attrs = {'class' : 'field-item even'})\n",
    "    language = soup_1.findAll('div', text = re.compile('Language'), attrs = {'class' : 'field-item even'})\n",
    "    \n",
    "    reviews = soup_1.find(\"iframe\", class_ = \"product-reviews-amazon\")\n",
    "    if reviews is not None:\n",
    "        reviews = reviews[\"src\"]\n",
    "    \n",
    "    result.append([title, price, Format,description, table, part_no, dimensions, pages,ISBN13, ISBN10, UPC, publish_date, language, reviews])"
   ]
  },
  {
   "cell_type": "code",
   "execution_count": 11,
   "metadata": {
    "collapsed": false
   },
   "outputs": [
    {
     "name": "stdout",
     "output_type": "stream",
     "text": [
      "<a href=\"/en-us/chevy-s-10-gmc-sonoma-pick-ups-94-04-haynes-digital-manual-includes-95-04-s-10-blazer-gmc-jimmy-gmc\">Chevy S-10 &amp; GMC Sonoma Pick-ups (94-04) Haynes Digital Manual. Includes (95-04) S-10 Blazer &amp; GMC Jimmy, GMC Envoy (98-01) and (96-01) Oldsmobile Bravada/ Isuzu Hombre</a>\n",
      "<a href=\"/en-us/chevroletgmc-camionetas-haynes-manual-de-reparaci-n-88-al-98-incluye-suburban-92-al-98-blazer-jimmy\">Chevrolet/GMC Camionetas Haynes Manual de Reparación: 88 al 98 incluye Suburban 92 al 98, Blazer &amp; Jimmy (los modelos de tamaño Grande 92 al 94, &amp; Tahoe y Yukon 95 al 98. Todos los motores de gasolina, de 2 y 4 tracciones. (edición española)</a>\n",
      "<a href=\"/en-us/chevrolet-gmc-full-size-gas-pick-ups-88-98-haynes-repair-manual\">Chevrolet &amp; GMC Full-size Gas Pick-ups (88-98) Haynes Repair Manual</a>\n",
      "<a href=\"/en-us/chevrolet-silverado-gmc-sierra-gas-pick-ups-99-06-haynes-repair-manual\">Chevrolet Silverado &amp; GMC Sierra Gas Pick-ups (99-06) Haynes Repair Manual</a>\n",
      "<a href=\"/en-us/chevrolet-silverado-gmc-sierra-gas-pick-ups-99-06-haynes-repair-manual\">Chevrolet Silverado &amp; GMC Sierra Gas Pick-ups (99-06) Haynes Repair Manual</a>\n",
      "<a href=\"/en-us/duramax-diesel-engine-chevrolet-gmc-trucks-vans-01-12-haynes-techbook\">Duramax Diesel Engine for Chevrolet &amp; GMC Trucks &amp; Vans (01-12) Haynes Techbook</a>\n",
      "<a href=\"/en-us/chevroletgmc-camionetas-haynes-manual-de-reparaci-n-88-al-98-incluye-suburban-92-al-98-blazer-jimmy\">Chevrolet/GMC Camionetas Haynes Manual de Reparación: 88 al 98 incluye Suburban 92 al 98, Blazer &amp; Jimmy (los modelos de tamaño Grande 92 al 94, &amp; Tahoe y Yukon 95 al 98. Todos los motores de gasolina, de 2 y 4 tracciones. (edición española)</a>\n",
      "<a href=\"/en-us/chevrolet-cavalier-and-pontiac-sunfire-haynes-repair-manual-1995-thru-2005\">Chevrolet Cavalier and Pontiac Sunfire Haynes Repair Manual for 1995 thru 2005</a>\n",
      "<a href=\"/en-us/general-motors-modelos-de-tama-o-mediano-haynes-manual-de-reparaci-n-1970-al-1988-tracci-n-en-las\">General Motors Modelos de Tamaño Mediano Haynes Manual de Reparación: 1970 al 1988 Tracción en las ruedas traseras Haynes Repair Manual (edición española)</a>\n",
      "<a href=\"/en-us/chevroletgmc-camionetas-haynes-manual-de-reparaci-n-88-al-98-incluye-suburban-92-al-98-blazer-jimmy\">Chevrolet/GMC Camionetas Haynes Manual de Reparación: 88 al 98 incluye Suburban 92 al 98, Blazer &amp; Jimmy (los modelos de tamaño Grande 92 al 94, &amp; Tahoe y Yukon 95 al 98. Todos los motores de gasolina, de 2 y 4 tracciones. (edición española)</a>\n",
      "<a href=\"/en-us/chevroletgmc-camionetas-haynes-manual-de-reparaci-n-88-al-98-incluye-suburban-92-al-98-blazer-jimmy\">Chevrolet/GMC Camionetas Haynes Manual de Reparación: 88 al 98 incluye Suburban 92 al 98, Blazer &amp; Jimmy (los modelos de tamaño Grande 92 al 94, &amp; Tahoe y Yukon 95 al 98. Todos los motores de gasolina, de 2 y 4 tracciones. (edición española)</a>\n",
      "<a href=\"/en-us/chevroletgmc-camionetas-haynes-manual-de-reparaci-n-88-al-98-incluye-suburban-92-al-98-blazer-jimmy\">Chevrolet/GMC Camionetas Haynes Manual de Reparación: 88 al 98 incluye Suburban 92 al 98, Blazer &amp; Jimmy (los modelos de tamaño Grande 92 al 94, &amp; Tahoe y Yukon 95 al 98. Todos los motores de gasolina, de 2 y 4 tracciones. (edición española)</a>\n",
      "<a href=\"/en-us/chevrolet-gmc-full-size-gas-pick-ups-88-98-haynes-repair-manual\">Chevrolet &amp; GMC Full-size Gas Pick-ups (88-98) Haynes Repair Manual</a>\n",
      "<a href=\"/en-us/chevroletgmc-camionetas-haynes-manual-de-reparaci-n-88-al-98-incluye-suburban-92-al-98-blazer-jimmy\">Chevrolet/GMC Camionetas Haynes Manual de Reparación: 88 al 98 incluye Suburban 92 al 98, Blazer &amp; Jimmy (los modelos de tamaño Grande 92 al 94, &amp; Tahoe y Yukon 95 al 98. Todos los motores de gasolina, de 2 y 4 tracciones. (edición española)</a>\n",
      "<a href=\"/en-us/chevroletgmc-camionetas-haynes-manual-de-reparaci-n-88-al-98-incluye-suburban-92-al-98-blazer-jimmy\">Chevrolet/GMC Camionetas Haynes Manual de Reparación: 88 al 98 incluye Suburban 92 al 98, Blazer &amp; Jimmy (los modelos de tamaño Grande 92 al 94, &amp; Tahoe y Yukon 95 al 98. Todos los motores de gasolina, de 2 y 4 tracciones. (edición española)</a>\n",
      "<a href=\"/en-us/chevroletgmc-camionetas-haynes-manual-de-reparaci-n-88-al-98-incluye-suburban-92-al-98-blazer-jimmy\">Chevrolet/GMC Camionetas Haynes Manual de Reparación: 88 al 98 incluye Suburban 92 al 98, Blazer &amp; Jimmy (los modelos de tamaño Grande 92 al 94, &amp; Tahoe y Yukon 95 al 98. Todos los motores de gasolina, de 2 y 4 tracciones. (edición española)</a>\n",
      "<a href=\"/en-us/dodge-caravangrand-caravan-plymouth-voyager-and-chrysler-town-country-96-02-haynes-digital-manual\">Dodge Caravan/Grand Caravan, Plymouth Voyager and Chrysler Town &amp; Country (96-02) Haynes Digital Manual</a>\n",
      "<a href=\"/en-us/dodge-caravan-plymouth-voyager-chrysler-town-country-1996-2002-inc-grand-caravan-haynes-repair\">Dodge Caravan, Plymouth Voyager &amp; Chrysler Town &amp; Country (1996-2002) inc. Grand Caravan Haynes Repair Manual</a>\n",
      "<a href=\"/en-us/dodge-caravan-plymouth-voyager-chrysler-town-country-1984-1995-haynes-repair-manual\">Dodge Caravan, Plymouth Voyager &amp; Chrysler Town &amp; Country (1984-1995) Haynes Repair Manual</a>\n",
      "<a href=\"/en-us/dodge-plymouth-neon-00-05-haynes-repair-manual-edici-n-espa-ola\">Dodge &amp; Plymouth Neon, '00-'05 Haynes Repair Manual (edición española)</a>\n",
      "<a href=\"/en-us/ford-camionetas-cerradas-haynes-manual-de-reparaci-n-1969-al-1991-motores-de-6-cilindros-en-l-nea-y\">Ford Camionetas Cerradas Haynes Manual de Reparación: 1969 al 1991 Motores de 6 cilindros en línea y V8 (Todos los E-100 al E-350 de tamaño Grande) Haynes Repair Manual (edición española)</a>\n",
      "<a href=\"/en-us/ford-camionetas-cerradas-haynes-manual-de-reparaci-n-1969-al-1991-motores-de-6-cilindros-en-l-nea-y\">Ford Camionetas Cerradas Haynes Manual de Reparación: 1969 al 1991 Motores de 6 cilindros en línea y V8 (Todos los E-100 al E-350 de tamaño Grande) Haynes Repair Manual (edición española)</a>\n",
      "<a href=\"/en-us/ford-camionetas-cerradas-haynes-manual-de-reparaci-n-1969-al-1991-motores-de-6-cilindros-en-l-nea-y\">Ford Camionetas Cerradas Haynes Manual de Reparación: 1969 al 1991 Motores de 6 cilindros en línea y V8 (Todos los E-100 al E-350 de tamaño Grande) Haynes Repair Manual (edición española)</a>\n",
      "<a href=\"/en-us/ford-camionetas-cerradas-haynes-manual-de-reparaci-n-1969-al-1991-motores-de-6-cilindros-en-l-nea-y\">Ford Camionetas Cerradas Haynes Manual de Reparación: 1969 al 1991 Motores de 6 cilindros en línea y V8 (Todos los E-100 al E-350 de tamaño Grande) Haynes Repair Manual (edición española)</a>\n",
      "<a href=\"/en-us/ford-camionetas-cerradas-haynes-manual-de-reparaci-n-1969-al-1991-motores-de-6-cilindros-en-l-nea-y\">Ford Camionetas Cerradas Haynes Manual de Reparación: 1969 al 1991 Motores de 6 cilindros en línea y V8 (Todos los E-100 al E-350 de tamaño Grande) Haynes Repair Manual (edición española)</a>\n",
      "<a href=\"/en-us/ford-camionetas-cerradas-haynes-manual-de-reparaci-n-1969-al-1991-motores-de-6-cilindros-en-l-nea-y\">Ford Camionetas Cerradas Haynes Manual de Reparación: 1969 al 1991 Motores de 6 cilindros en línea y V8 (Todos los E-100 al E-350 de tamaño Grande) Haynes Repair Manual (edición española)</a>\n",
      "<a href=\"/en-us/ford-camionetas-cerradas-haynes-manual-de-reparaci-n-1969-al-1991-motores-de-6-cilindros-en-l-nea-y\">Ford Camionetas Cerradas Haynes Manual de Reparación: 1969 al 1991 Motores de 6 cilindros en línea y V8 (Todos los E-100 al E-350 de tamaño Grande) Haynes Repair Manual (edición española)</a>\n",
      "<a href=\"/en-us/ford-camionetas-cerradas-haynes-manual-de-reparaci-n-1969-al-1991-motores-de-6-cilindros-en-l-nea-y\">Ford Camionetas Cerradas Haynes Manual de Reparación: 1969 al 1991 Motores de 6 cilindros en línea y V8 (Todos los E-100 al E-350 de tamaño Grande) Haynes Repair Manual (edición española)</a>\n",
      "<a href=\"/en-us/ford-camionetas-cerradas-haynes-manual-de-reparaci-n-1969-al-1991-motores-de-6-cilindros-en-l-nea-y\">Ford Camionetas Cerradas Haynes Manual de Reparación: 1969 al 1991 Motores de 6 cilindros en línea y V8 (Todos los E-100 al E-350 de tamaño Grande) Haynes Repair Manual (edición española)</a>\n",
      "<a href=\"/en-us/ford-camionetas-cerradas-haynes-manual-de-reparaci-n-1969-al-1991-motores-de-6-cilindros-en-l-nea-y\">Ford Camionetas Cerradas Haynes Manual de Reparación: 1969 al 1991 Motores de 6 cilindros en línea y V8 (Todos los E-100 al E-350 de tamaño Grande) Haynes Repair Manual (edición española)</a>\n",
      "<a href=\"/en-us/ford-explorer-and-mazda-navajo-haynes-digital-manual-covering-ford-explorer-and-mazda-navajo-91-01\">Ford Explorer and Mazda Navajo Haynes Digital Manual covering Ford Explorer and Mazda Navajo (91-01), Mercury Mountaineer (97-01), Explorer Sport (00-03), and Explorer Sport Trac (01-05)</a>\n",
      "<a href=\"/en-us/ford-explorer-and-mazda-navajo-haynes-digital-manual-covering-ford-explorer-and-mazda-navajo-91-01\">Ford Explorer and Mazda Navajo Haynes Digital Manual covering Ford Explorer and Mazda Navajo (91-01), Mercury Mountaineer (97-01), Explorer Sport (00-03), and Explorer Sport Trac (01-05)</a>\n",
      "<a href=\"/en-us/ford-pick-ups-expedition-lincoln-navigator-covering-2wd-4wd-petrol-f-150-1997-2003-f-150-heritage\">Ford pick-ups, Expedition &amp; Lincoln Navigator covering 2WD &amp; 4WD petrol F-150 (1997-2003), F-150 Heritage (2004), F-250 (1997-1999), Expedition (1997-2014), &amp; Lincoln Navigator (1998-2014) Haynes Repair Manual</a>\n",
      "<a href=\"/en-us/ford-pick-upsexpedition-and-lincoln-navigator-gasoline-model-2wd-and-4wd-97-12-haynes-digital-manual\">Ford Pick-ups,Expedition and Lincoln Navigator Gasoline Model 2WD and 4WD (97-12) Haynes Digital Manual</a>\n",
      "<a href=\"/en-us/ford-windstar-95-03-and-freestar-and-mercury-monterey-04-07-haynes-digital-manual\">Ford Windstar (95-03) and Freestar and Mercury Monterey (04-07) Haynes Digital Manual</a>\n",
      "<a href=\"/en-us/ford-windstar-95-03-and-freestar-and-mercury-monterey-04-07-haynes-digital-manual\">Ford Windstar (95-03) and Freestar and Mercury Monterey (04-07) Haynes Digital Manual</a>\n",
      "<a href=\"/en-us/chevy-gmc-pick-ups-haynes-digital-manual-67-87-6-cyl-inline-43l-v6-and-v8-gasoline-engine-models\">Chevy &amp; GMC Pick-ups Haynes Digital Manual for (67-87) 6-cyl inline, 4.3L V6 and V8 Gasoline Engine Models. Includes (67-91) Suburban, Blazer and Jimmy</a>\n",
      "<a href=\"/en-us/chevrolet-silverado-gmc-sierra-gas-pick-ups-99-06-haynes-repair-manual\">Chevrolet Silverado &amp; GMC Sierra Gas Pick-ups (99-06) Haynes Repair Manual</a>\n",
      "<a href=\"/en-us/chevy-gmc-pick-ups-haynes-digital-manual-67-87-6-cyl-inline-43l-v6-and-v8-gasoline-engine-models\">Chevy &amp; GMC Pick-ups Haynes Digital Manual for (67-87) 6-cyl inline, 4.3L V6 and V8 Gasoline Engine Models. Includes (67-91) Suburban, Blazer and Jimmy</a>\n",
      "<a href=\"/en-us/chevy-gmc-pick-ups-haynes-digital-manual-67-87-6-cyl-inline-43l-v6-and-v8-gasoline-engine-models\">Chevy &amp; GMC Pick-ups Haynes Digital Manual for (67-87) 6-cyl inline, 4.3L V6 and V8 Gasoline Engine Models. Includes (67-91) Suburban, Blazer and Jimmy</a>\n",
      "<a href=\"/en-us/chevy-gmc-full-size-pick-ups-99-06-haynes-digital-manual\">Chevy &amp; GMC Full-size Pick-ups (99-06) Haynes Digital Manual</a>\n",
      "<a href=\"/en-us/chevy-gmc-pick-ups-haynes-digital-manual-67-87-6-cyl-inline-43l-v6-and-v8-gasoline-engine-models\">Chevy &amp; GMC Pick-ups Haynes Digital Manual for (67-87) 6-cyl inline, 4.3L V6 and V8 Gasoline Engine Models. Includes (67-91) Suburban, Blazer and Jimmy</a>\n",
      "<a href=\"/en-us/chevy-gmc-pick-ups-haynes-digital-manual-67-87-6-cyl-inline-43l-v6-and-v8-gasoline-engine-models\">Chevy &amp; GMC Pick-ups Haynes Digital Manual for (67-87) 6-cyl inline, 4.3L V6 and V8 Gasoline Engine Models. Includes (67-91) Suburban, Blazer and Jimmy</a>\n",
      "<a href=\"/en-us/chevy-and-gmc-pick-ups-full-size-light-duty-gasoline-engine-models-88-98-haynes-digital-manual\">Chevy and GMC Pick-ups Full-size Light-duty Gasoline Engine Models (88-98) Haynes Digital Manual</a>\n",
      "<a href=\"/en-us/chevrolet-y-gmc-camionetas-manual-de-reparaci-n-94-al-04-todos-los-chevrolet-s-10-y-gmc-sonoma\">Chevrolet y GMC Camionetas Manual de Reparación: 94 al 04. Todos los Chevrolet S-10 y GMC Sonoma camionetas 94 al 04, Chevrolet Blazer y GMC Jimmy 95 al 04, GMC Envoy 98 al 01, Oldsmobile Bravada 96 al 01, y Isuzu Hombre 96 al 00 (edición española)</a>\n",
      "<a href=\"/en-us/chevy-and-gmc-pick-ups-full-size-light-duty-gasoline-engine-models-88-98-haynes-digital-manual\">Chevy and GMC Pick-ups Full-size Light-duty Gasoline Engine Models (88-98) Haynes Digital Manual</a>\n",
      "<a href=\"/en-us/chevy-and-gmc-pick-ups-full-size-light-duty-gasoline-engine-models-88-98-haynes-digital-manual\">Chevy and GMC Pick-ups Full-size Light-duty Gasoline Engine Models (88-98) Haynes Digital Manual</a>\n",
      "<a href=\"/en-us/chevrolet-y-gmc-camionetas-manual-de-reparaci-n-94-al-04-todos-los-chevrolet-s-10-y-gmc-sonoma\">Chevrolet y GMC Camionetas Manual de Reparación: 94 al 04. Todos los Chevrolet S-10 y GMC Sonoma camionetas 94 al 04, Chevrolet Blazer y GMC Jimmy 95 al 04, GMC Envoy 98 al 01, Oldsmobile Bravada 96 al 01, y Isuzu Hombre 96 al 00 (edición española)</a>\n",
      "<a href=\"/en-us/chevy-and-gmc-pick-ups-full-size-light-duty-gasoline-engine-models-88-98-haynes-digital-manual\">Chevy and GMC Pick-ups Full-size Light-duty Gasoline Engine Models (88-98) Haynes Digital Manual</a>\n",
      "<a href=\"/en-us/chevy-gmc-full-size-pick-ups-99-06-haynes-digital-manual\">Chevy &amp; GMC Full-size Pick-ups (99-06) Haynes Digital Manual</a>\n",
      "<a href=\"/en-us/chevy-and-gmc-pick-ups-full-size-light-duty-gasoline-engine-models-88-98-haynes-digital-manual\">Chevy and GMC Pick-ups Full-size Light-duty Gasoline Engine Models (88-98) Haynes Digital Manual</a>\n",
      "<a href=\"/en-us/chevrolet-gmc-full-size-gas-pick-ups-88-98-haynes-repair-manual\">Chevrolet &amp; GMC Full-size Gas Pick-ups (88-98) Haynes Repair Manual</a>\n",
      "<a href=\"/en-us/chevy-s-10-gmc-sonoma-pick-ups-94-04-haynes-digital-manual-includes-95-04-s-10-blazer-gmc-jimmy-gmc\">Chevy S-10 &amp; GMC Sonoma Pick-ups (94-04) Haynes Digital Manual. Includes (95-04) S-10 Blazer &amp; GMC Jimmy, GMC Envoy (98-01) and (96-01) Oldsmobile Bravada/ Isuzu Hombre</a>\n",
      "<a href=\"/en-us/jeep-grand-cherokee-1993-2004-haynes-repair-manual\">Jeep Grand Cherokee (1993-2004) Haynes Repair Manual</a>\n",
      "<a href=\"/en-us/ford-mercury-mid-size-ford-thunderbird-mercury-cougar-75-82ford-ltd-mercury-marquis-83-86ford\">Ford &amp; Mercury mid-size Ford Thunderbird &amp; Mercury Cougar 75-82,Ford LTD &amp; Mercury Marquis 83-86,Ford Torino,Gran Torino, Elite, Ranchero pick-up, LTD II, Mecury Montego, Comet, XR-7 &amp; Lincoln Versailles 75-86 Haynes Repair Manual</a>\n",
      "<a href=\"/en-us/ford-ranger1993-2011-mazda-b2300b2500b3000b4000-1994-2009-haynes-repair-manual\">Ford Ranger(1993-2011) &amp; Mazda B2300/B2500/B3000/B4000 (1994-2009) Haynes Repair Manual</a>\n",
      "<a href=\"/en-us/ford-ranger1993-2011-mazda-b2300b2500b3000b4000-1994-2009-haynes-repair-manual\">Ford Ranger(1993-2011) &amp; Mazda B2300/B2500/B3000/B4000 (1994-2009) Haynes Repair Manual</a>\n",
      "<a href=\"/en-us/ford-ranger1993-2011-mazda-b2300b2500b3000b4000-1994-2009-haynes-repair-manual\">Ford Ranger(1993-2011) &amp; Mazda B2300/B2500/B3000/B4000 (1994-2009) Haynes Repair Manual</a>\n",
      "<a href=\"/en-us/ford-y-mercury-modelos-de-tama-o-mediano-haynes-manual-de-reparaci-n-1975-al-1986-4-cilindros-6\">Ford y Mercury Modelos de Tamaño Mediano Haynes Manual de Reparación: 1975 al 1986 (4 cilindros, 6 cilindros en línea, V6 y V8) Haynes Repair Manual (edición española)</a>\n",
      "<a href=\"/en-us/ford-y-mercury-modelos-de-tama-o-mediano-haynes-manual-de-reparaci-n-1975-al-1986-4-cilindros-6\">Ford y Mercury Modelos de Tamaño Mediano Haynes Manual de Reparación: 1975 al 1986 (4 cilindros, 6 cilindros en línea, V6 y V8) Haynes Repair Manual (edición española)</a>\n",
      "<a href=\"/en-us/ford-windstar-95-03-ford-freestar-mercury-monterey-04-07-haynes-repair-manual-edici-n-espa-ola\">Ford Windstar (95-03) &amp; Ford Freestar &amp; Mercury Monterey (04-07) Haynes Repair Manual (edición española)</a>\n",
      "<a href=\"/en-us/nissan-datsun-2wd-4wd-gas-pick-ups-80-97-pathfinder-87-95-haynes-digital-manual\">Nissan &amp; Datsun 2WD &amp; 4WD Gas Pick-ups (80-97) &amp; Pathfinder (87-95) Haynes Digital Manual</a>\n",
      "<a href=\"/en-us/nissan-sentra-sedan-coupe-wagon-petrol-1982-1994-haynes-repair-manual\">Nissan Sentra Sedan, Coupe, Wagon petrol (1982-1994) Haynes Repair Manual</a>\n",
      "<a href=\"/en-us/chevy-s-10-gmc-sonoma-pick-ups-94-04-haynes-digital-manual-includes-95-04-s-10-blazer-gmc-jimmy-gmc\">Chevy S-10 &amp; GMC Sonoma Pick-ups (94-04) Haynes Digital Manual. Includes (95-04) S-10 Blazer &amp; GMC Jimmy, GMC Envoy (98-01) and (96-01) Oldsmobile Bravada/ Isuzu Hombre</a>\n",
      "<a href=\"/en-us/general-motors-modelos-de-tama-o-grande-haynes-manual-de-reparaci-n-1970-al-1990-tracci-n-en-las\">General Motors Modelos de Tamaño Grande Haynes Manual de Reparación: 1970 al 1990 Tracción en las ruedas traseras 3.8L V6, 4.1L V6, 4.3L V6 y todos los motores V8 de gasolina Haynes Repair Manual (edición española)</a>\n",
      "<a href=\"/en-us/dodge-plymouth-neon-2000-2005-haynes-repair-manual\">Dodge &amp; Plymouth Neon (2000-2005) Haynes Repair Manual</a>\n",
      "<a href=\"/en-us/dodge-caravan-plymouth-voyager-chrysler-town-country-1984-1995-haynes-repair-manual\">Dodge Caravan, Plymouth Voyager &amp; Chrysler Town &amp; Country (1984-1995) Haynes Repair Manual</a>\n",
      "<a href=\"/en-us/gm-chevrolet-cavalier-pontiac-sunfire-95-05-haynes-repair-manual-edici-n-espa-ola\">GM: Chevrolet Cavalier &amp; Pontiac Sunfire, '95-'05 Haynes Repair Manual (edición española)</a>\n",
      "4889.53699994\n"
     ]
    },
    {
     "data": {
      "text/plain": [
       "'\\n    page_temp = urllib2.urlopen(link)\\n    soup_temp = BeautifulSoup(page_temp)\\n    \\n    model_temp = soup_temp.find_all(\"div\", class_=\"item-list\")[1]\\n    links_model = model_temp.find_all(\"li\")\\n    for model in links_model:\\n        list_models.append(model.a[\"href\"])\\n'"
      ]
     },
     "execution_count": 11,
     "metadata": {},
     "output_type": "execute_result"
    }
   ],
   "source": [
    "import time\n",
    "start = time.time()\n",
    "\n",
    "result = []\n",
    "for link in list_models:\n",
    "    # 3 types of links\n",
    "    # 1-result of a search, go to next level\n",
    "    if \"search?query\" in link:\n",
    "        page_temp = urllib2.urlopen(link)\n",
    "        soup_temp = BeautifulSoup(page_temp, \"lxml\")\n",
    "        model_temp = soup_temp.find_all(\"div\", class_=\"product-teaser-title\")[1]\n",
    "        for item in model_temp:\n",
    "            if item is not None:\n",
    "                #print item\n",
    "                link_temp = prefix + item[\"href\"]\n",
    "                extract_info(link_temp, result)\n",
    "         \n",
    "    # 2-need to go to next level by \"more info\"\n",
    "    elif link[-1].isdigit():\n",
    "        page_temp = urllib2.urlopen(link)\n",
    "        soup_temp = BeautifulSoup(page_temp, \"lxml\")\n",
    "        link_temp = soup_temp.find_all(\"div\", class_=\"views-field views-field-view-node\")\n",
    "        for item in link_temp:\n",
    "            link_temp = prefix + item.a[\"href\"]\n",
    "            extract_info(link_temp, result)\n",
    "    \n",
    "    # 3-final page\n",
    "    else:\n",
    "        extract_info(link, result)\n",
    "        \n",
    "end = time.time()\n",
    "print(end - start)\n",
    "'''\n",
    "    page_temp = urllib2.urlopen(link)\n",
    "    soup_temp = BeautifulSoup(page_temp)\n",
    "    \n",
    "    model_temp = soup_temp.find_all(\"div\", class_=\"item-list\")[1]\n",
    "    links_model = model_temp.find_all(\"li\")\n",
    "    for model in links_model:\n",
    "        list_models.append(model.a[\"href\"])\n",
    "'''"
   ]
  },
  {
   "cell_type": "code",
   "execution_count": null,
   "metadata": {
    "collapsed": false
   },
   "outputs": [],
   "source": [
    "'''\n",
    "for item in model_temp:\n",
    "    print item\n",
    "    if item:\n",
    "        print item[\"href\"]\n",
    "'''"
   ]
  },
  {
   "cell_type": "code",
   "execution_count": 18,
   "metadata": {
    "collapsed": false
   },
   "outputs": [
    {
     "name": "stdout",
     "output_type": "stream",
     "text": [
      "1691\n"
     ]
    }
   ],
   "source": [
    "print len(result)"
   ]
  },
  {
   "cell_type": "code",
   "execution_count": 13,
   "metadata": {
    "collapsed": true
   },
   "outputs": [],
   "source": [
    "import json\n",
    "\n",
    "with open(\"Manuals.json\", \"w\") as writeJSON:\n",
    "    json.dump(result, writeJSON)"
   ]
  },
  {
   "cell_type": "code",
   "execution_count": 24,
   "metadata": {
    "collapsed": false
   },
   "outputs": [
    {
     "data": {
      "text/plain": [
       "'\\nwith open(\"Manuals.csv\", \"w\") as toWrite:\\n    writer = csv.writer(toWrite, delimiter=\",\")\\n    writer.writerow([\"title\",\"price\", \"Format\",\"decription\", \"table\", \"part_no\", \"dimensions\", \"pages\",\"ISBN13\", \"ISBN10\", \"UPC\", \"publish_date\", \"language\", \"reviews\"])\\n    for a in result:\\n        writer.writerow(a)\\n'"
      ]
     },
     "execution_count": 24,
     "metadata": {},
     "output_type": "execute_result"
    }
   ],
   "source": [
    "import csv\n",
    "import pandas as pd\n",
    "\n",
    "df = pd.DataFrame(result)\n",
    "df\n",
    "#df.to_csv('my_csv.csv', index = False, header = False)\n",
    "\n",
    "'''\n",
    "with open(\"Manuals.csv\", \"wb\") as f:\n",
    "    writer = csv.writer(f)\n",
    "    writer.writerows(result)\n",
    "'''\n",
    "'''\n",
    "with open(\"Manuals.csv\", \"w\") as toWrite:\n",
    "    writer = csv.writer(toWrite, delimiter=\",\")\n",
    "    writer.writerow([\"title\",\"price\", \"Format\",\"decription\", \"table\", \"part_no\", \"dimensions\", \"pages\",\"ISBN13\", \"ISBN10\", \"UPC\", \"publish_date\", \"language\", \"reviews\"])\n",
    "    for a in result:\n",
    "        writer.writerow(a)\n",
    "'''"
   ]
  },
  {
   "cell_type": "code",
   "execution_count": null,
   "metadata": {
    "collapsed": false
   },
   "outputs": [],
   "source": [
    "print soup_temp.prettify()"
   ]
  }
 ],
 "metadata": {
  "anaconda-cloud": {},
  "kernelspec": {
   "display_name": "Python [default]",
   "language": "python",
   "name": "python2"
  },
  "language_info": {
   "codemirror_mode": {
    "name": "ipython",
    "version": 2
   },
   "file_extension": ".py",
   "mimetype": "text/x-python",
   "name": "python",
   "nbconvert_exporter": "python",
   "pygments_lexer": "ipython2",
   "version": "2.7.12"
  }
 },
 "nbformat": 4,
 "nbformat_minor": 1
}
