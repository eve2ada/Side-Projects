{
 "cells": [
  {
   "cell_type": "code",
   "execution_count": 1,
   "metadata": {
    "collapsed": true
   },
   "outputs": [],
   "source": [
    "# webpage extraction with beautifulsoup\n",
    "import urllib2\n",
    "from bs4 import BeautifulSoup\n",
    "import re\n",
    "\n",
    "#specify the url\n",
    "manual = 'https://haynes.com/en-us/car-manuals/car-makes'\n",
    "\n",
    "#Query the website and return the html to the variable 'page'\n",
    "page = urllib2.urlopen(manual)"
   ]
  },
  {
   "cell_type": "code",
   "execution_count": 2,
   "metadata": {
    "collapsed": false
   },
   "outputs": [],
   "source": [
    "soup = BeautifulSoup(page, \"lxml\")"
   ]
  },
  {
   "cell_type": "code",
   "execution_count": null,
   "metadata": {
    "collapsed": false
   },
   "outputs": [],
   "source": [
    "print soup.prettify()"
   ]
  },
  {
   "cell_type": "code",
   "execution_count": 4,
   "metadata": {
    "collapsed": false
   },
   "outputs": [],
   "source": [
    "makes = soup.find_all(\"div\", class_=\"item-list\")[1]\n",
    "links_makes = makes.find_all(\"div\", class_ = \"views-field views-field-nothing\")"
   ]
  },
  {
   "cell_type": "code",
   "execution_count": 5,
   "metadata": {
    "collapsed": false,
    "scrolled": true
   },
   "outputs": [],
   "source": [
    "list_makes = []\n",
    "prefix = \"https://haynes.com\"\n",
    "for make in links_makes:\n",
    "    list_makes.append(prefix + make.a[\"href\"])    "
   ]
  },
  {
   "cell_type": "code",
   "execution_count": 6,
   "metadata": {
    "collapsed": false
   },
   "outputs": [],
   "source": [
    "#Query the website and return the html to the variable 'page'\n",
    "list_models = []\n",
    "\n",
    "for link in list_makes:\n",
    "    page_temp = urllib2.urlopen(link)\n",
    "    soup_temp = BeautifulSoup(page_temp, \"lxml\")\n",
    "    model_temp = soup_temp.find_all(\"div\", class_=\"item-list\")[1]\n",
    "    links_model = model_temp.find_all(\"li\")\n",
    "    for model in links_model:\n",
    "        list_models.append(model.a[\"href\"])\n"
   ]
  },
  {
   "cell_type": "code",
   "execution_count": 9,
   "metadata": {
    "collapsed": false
   },
   "outputs": [],
   "source": [
    "def extract_info(link, result):\n",
    "    page_1 = urllib2.urlopen(link)\n",
    "    soup_1 = BeautifulSoup(page_1, \"lxml\")\n",
    "    title = soup_1.find(\"h1\", class_=\"product-title\").get_text()\n",
    "    price = soup_1.find(\"span\", class_=\"price-amount commerce-price-savings-formatter-price\").get_text()\n",
    "            \n",
    "    body = soup_1.find_all(\"div\", class_=\"field-item even\")\n",
    "    \n",
    "    Format = body[2].text.replace('\\n', '')\n",
    "    decription = body[4].get_text() + body[5].get_text()+ body[6].get_text() + body[7].get_text()\n",
    "    description = decription.encode('utf-8')\n",
    "    \n",
    "    table = body[8].get_text()\n",
    "    #part_no = soup_1.findAll('div', text = re.compile('Part number'), attrs = {'class' : 'field-item even'})\n",
    "    part = soup_1.find(\"div\", string = re.compile(\"Part number\"))\n",
    "    if part:\n",
    "        part = part.nextSibling.text\n",
    "    dimensions = soup_1.find(\"div\", string = re.compile(\"Dimensions\"))\n",
    "    if dimensions:\n",
    "        dimensions = dimensions.nextSibling.text\n",
    "    pages = soup_1.find(\"div\", string = re.compile(\"# of pages\"))\n",
    "    if pages:\n",
    "        pages = pages.nextSibling.text\n",
    "    ISBN13 = soup_1.find(\"div\", string = re.compile(\"ISBN-13\"))\n",
    "    if ISBN13:\n",
    "        ISBN13 = ISBN13.nextSibling.text\n",
    "    ISBN10 = soup_1.find(\"div\", string = re.compile(\"ISBN-10\"))\n",
    "    if ISBN10:\n",
    "        ISBN10 = ISBN10.nextSibling.text\n",
    "    UPC = soup_1.find(\"div\", string = re.compile(\"UPC\"))\n",
    "    if UPC:\n",
    "        UPC = UPC.nextSibling.text\n",
    "    publish_date = soup_1.find(\"div\", string = re.compile(\"Publication date\"))\n",
    "    if publish_date:\n",
    "        publish_date = publish_date.nextSibling.text\n",
    "    language = soup_1.find(\"div\", string = re.compile(\"Language\"))\n",
    "    if language:\n",
    "        language = language.nextSibling.text\n",
    "    \n",
    "    reviews = soup_1.find(\"iframe\", class_ = \"product-reviews-amazon\")\n",
    "    if reviews is not None:\n",
    "        reviews = reviews[\"src\"]\n",
    "    \n",
    "    result.append([title, price, Format,description, table, part, dimensions, pages,ISBN13, ISBN10, UPC, publish_date, language, reviews])"
   ]
  },
  {
   "cell_type": "code",
   "execution_count": null,
   "metadata": {
    "collapsed": false,
    "scrolled": true
   },
   "outputs": [],
   "source": [
    "import re\n",
    "link = \"https://haynes.com/en-us/honda-civic-1996-2000-cr-v-1997-2001-acura-integra-1994-2000-haynes-repair-manual\"\n",
    "output = []\n",
    "\n",
    "extract_info(link,output)\n",
    "print output"
   ]
  },
  {
   "cell_type": "code",
   "execution_count": null,
   "metadata": {
    "collapsed": false
   },
   "outputs": [],
   "source": [
    "import csv\n",
    "import pandas as pd\n",
    "\n",
    "#df = pd.DataFrame(result)\n",
    "#df\n",
    "#df.to_csv('my_csv.csv', index = False, header = False)\n",
    "\n",
    "\n",
    "with open(\"Manuals.csv\", \"wb\") as f:\n",
    "    writer = csv.writer(f)\n",
    "    writer.writerows(output)\n",
    "\n",
    "'''\n",
    "with open(\"Manuals.csv\", \"w\") as toWrite:\n",
    "    writer = csv.writer(toWrite, delimiter=\",\")\n",
    "    writer.writerow([\"title\",\"price\", \"Format\",\"decription\", \"table\", \"part_no\", \"dimensions\", \"pages\",\"ISBN13\", \"ISBN10\", \"UPC\", \"publish_date\", \"language\", \"reviews\"])\n",
    "    for a in result:\n",
    "        writer.writerow(a)\n",
    "'''"
   ]
  },
  {
   "cell_type": "code",
   "execution_count": null,
   "metadata": {
    "collapsed": false
   },
   "outputs": [],
   "source": [
    "extract_info(link, output)\n",
    "print output"
   ]
  },
  {
   "cell_type": "code",
   "execution_count": 10,
   "metadata": {
    "collapsed": false
   },
   "outputs": [
    {
     "ename": "NameError",
     "evalue": "global name 'publish_date' is not defined",
     "output_type": "error",
     "traceback": [
      "\u001b[0;31m---------------------------------------------------------------------------\u001b[0m",
      "\u001b[0;31mNameError\u001b[0m                                 Traceback (most recent call last)",
      "\u001b[0;32m<ipython-input-10-7993621773d9>\u001b[0m in \u001b[0;36m<module>\u001b[0;34m()\u001b[0m\n\u001b[1;32m     23\u001b[0m         \u001b[1;32mfor\u001b[0m \u001b[0mitem\u001b[0m \u001b[1;32min\u001b[0m \u001b[0mlink_temp\u001b[0m\u001b[1;33m:\u001b[0m\u001b[1;33m\u001b[0m\u001b[0m\n\u001b[1;32m     24\u001b[0m             \u001b[0mlink_temp\u001b[0m \u001b[1;33m=\u001b[0m \u001b[0mprefix\u001b[0m \u001b[1;33m+\u001b[0m \u001b[0mitem\u001b[0m\u001b[1;33m.\u001b[0m\u001b[0ma\u001b[0m\u001b[1;33m[\u001b[0m\u001b[1;34m\"href\"\u001b[0m\u001b[1;33m]\u001b[0m\u001b[1;33m\u001b[0m\u001b[0m\n\u001b[0;32m---> 25\u001b[0;31m             \u001b[0mextract_info\u001b[0m\u001b[1;33m(\u001b[0m\u001b[0mlink_temp\u001b[0m\u001b[1;33m,\u001b[0m \u001b[0mresult\u001b[0m\u001b[1;33m)\u001b[0m\u001b[1;33m\u001b[0m\u001b[0m\n\u001b[0m\u001b[1;32m     26\u001b[0m \u001b[1;33m\u001b[0m\u001b[0m\n\u001b[1;32m     27\u001b[0m     \u001b[1;31m# 3-final page\u001b[0m\u001b[1;33m\u001b[0m\u001b[1;33m\u001b[0m\u001b[0m\n",
      "\u001b[0;32m<ipython-input-9-301c0f3b6217>\u001b[0m in \u001b[0;36mextract_info\u001b[0;34m(link, result)\u001b[0m\n\u001b[1;32m     39\u001b[0m         \u001b[0mreviews\u001b[0m \u001b[1;33m=\u001b[0m \u001b[0mreviews\u001b[0m\u001b[1;33m[\u001b[0m\u001b[1;34m\"src\"\u001b[0m\u001b[1;33m]\u001b[0m\u001b[1;33m\u001b[0m\u001b[0m\n\u001b[1;32m     40\u001b[0m \u001b[1;33m\u001b[0m\u001b[0m\n\u001b[0;32m---> 41\u001b[0;31m     \u001b[0mresult\u001b[0m\u001b[1;33m.\u001b[0m\u001b[0mappend\u001b[0m\u001b[1;33m(\u001b[0m\u001b[1;33m[\u001b[0m\u001b[0mtitle\u001b[0m\u001b[1;33m,\u001b[0m \u001b[0mprice\u001b[0m\u001b[1;33m,\u001b[0m \u001b[0mFormat\u001b[0m\u001b[1;33m,\u001b[0m\u001b[0mdescription\u001b[0m\u001b[1;33m,\u001b[0m \u001b[0mtable\u001b[0m\u001b[1;33m,\u001b[0m \u001b[0mpart\u001b[0m\u001b[1;33m,\u001b[0m \u001b[0mdimensions\u001b[0m\u001b[1;33m,\u001b[0m \u001b[0mpages\u001b[0m\u001b[1;33m,\u001b[0m\u001b[0mISBN13\u001b[0m\u001b[1;33m,\u001b[0m \u001b[0mISBN10\u001b[0m\u001b[1;33m,\u001b[0m \u001b[0mUPC\u001b[0m\u001b[1;33m,\u001b[0m \u001b[0mpublish_date\u001b[0m\u001b[1;33m,\u001b[0m \u001b[0mlanguage\u001b[0m\u001b[1;33m,\u001b[0m \u001b[0mreviews\u001b[0m\u001b[1;33m]\u001b[0m\u001b[1;33m)\u001b[0m\u001b[1;33m\u001b[0m\u001b[0m\n\u001b[0m",
      "\u001b[0;31mNameError\u001b[0m: global name 'publish_date' is not defined"
     ]
    }
   ],
   "source": [
    "import time\n",
    "start = time.time()\n",
    "\n",
    "result = []\n",
    "for link in list_models:\n",
    "    # 3 types of links\n",
    "    # 1-result of a search, go to next level\n",
    "    if \"search?query\" in link:\n",
    "        page_temp = urllib2.urlopen(link)\n",
    "        soup_temp = BeautifulSoup(page_temp, \"lxml\")\n",
    "        model_temp = soup_temp.find_all(\"div\", class_=\"product-teaser-title\")[1]\n",
    "        for item in model_temp:\n",
    "            if item is not None:\n",
    "                #print item\n",
    "                link_temp = prefix + item[\"href\"]\n",
    "                extract_info(link_temp, result)\n",
    "         \n",
    "    # 2-need to go to next level by \"more info\"\n",
    "    elif link[-1].isdigit():\n",
    "        page_temp = urllib2.urlopen(link)\n",
    "        soup_temp = BeautifulSoup(page_temp, \"lxml\")\n",
    "        link_temp = soup_temp.find_all(\"div\", class_=\"views-field views-field-view-node\")\n",
    "        for item in link_temp:\n",
    "            link_temp = prefix + item.a[\"href\"]\n",
    "            extract_info(link_temp, result)\n",
    "    \n",
    "    # 3-final page\n",
    "    else:\n",
    "        extract_info(link, result)\n",
    "        \n",
    "end = time.time()\n",
    "print(end - start)\n",
    "'''\n",
    "    page_temp = urllib2.urlopen(link)\n",
    "    soup_temp = BeautifulSoup(page_temp)\n",
    "    \n",
    "    model_temp = soup_temp.find_all(\"div\", class_=\"item-list\")[1]\n",
    "    links_model = model_temp.find_all(\"li\")\n",
    "    for model in links_model:\n",
    "        list_models.append(model.a[\"href\"])\n",
    "'''"
   ]
  },
  {
   "cell_type": "code",
   "execution_count": null,
   "metadata": {
    "collapsed": false
   },
   "outputs": [],
   "source": [
    "result"
   ]
  },
  {
   "cell_type": "code",
   "execution_count": null,
   "metadata": {
    "collapsed": false
   },
   "outputs": [],
   "source": [
    "print len(result)"
   ]
  },
  {
   "cell_type": "code",
   "execution_count": null,
   "metadata": {
    "collapsed": true
   },
   "outputs": [],
   "source": [
    "import json\n",
    "\n",
    "with open(\"Manuals.json\", \"w\") as writeJSON:\n",
    "    json.dump(result, writeJSON)"
   ]
  },
  {
   "cell_type": "code",
   "execution_count": null,
   "metadata": {
    "collapsed": false
   },
   "outputs": [],
   "source": [
    "import csv\n",
    "import pandas as pd\n",
    "\n",
    "#df = pd.DataFrame(result)\n",
    "#df\n",
    "#df.to_csv('my_csv.csv', index = False, header = False)\n",
    "\n",
    "\n",
    "with open(\"Manuals.csv\", \"wb\") as f:\n",
    "    writer = csv.writer(f)\n",
    "    writer.writerows(result)\n",
    "\n",
    "'''\n",
    "with open(\"Manuals.csv\", \"w\") as toWrite:\n",
    "    writer = csv.writer(toWrite, delimiter=\",\")\n",
    "    writer.writerow([\"title\",\"price\", \"Format\",\"decription\", \"table\", \"part_no\", \"dimensions\", \"pages\",\"ISBN13\", \"ISBN10\", \"UPC\", \"publish_date\", \"language\", \"reviews\"])\n",
    "    for a in result:\n",
    "        writer.writerow(a)\n",
    "'''"
   ]
  },
  {
   "cell_type": "code",
   "execution_count": null,
   "metadata": {
    "collapsed": false
   },
   "outputs": [],
   "source": [
    "print soup_temp.prettify()"
   ]
  }
 ],
 "metadata": {
  "anaconda-cloud": {},
  "kernelspec": {
   "display_name": "Python [default]",
   "language": "python",
   "name": "python2"
  },
  "language_info": {
   "codemirror_mode": {
    "name": "ipython",
    "version": 2
   },
   "file_extension": ".py",
   "mimetype": "text/x-python",
   "name": "python",
   "nbconvert_exporter": "python",
   "pygments_lexer": "ipython2",
   "version": "2.7.12"
  }
 },
 "nbformat": 4,
 "nbformat_minor": 1
}
