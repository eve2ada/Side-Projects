{
 "cells": [
  {
   "cell_type": "code",
   "execution_count": 1,
   "metadata": {
    "collapsed": true
   },
   "outputs": [],
   "source": [
    "# webpage extraction with beautifulsoup\n",
    "import urllib2\n",
    "from bs4 import BeautifulSoup\n",
    "\n",
    "#specify the url\n",
    "manual = 'https://haynes.com/en-us/car-manuals/car-makes'\n",
    "\n",
    "#Query the website and return the html to the variable 'page'\n",
    "page = urllib2.urlopen(manual)"
   ]
  },
  {
   "cell_type": "code",
   "execution_count": 2,
   "metadata": {
    "collapsed": false
   },
   "outputs": [],
   "source": [
    "soup = BeautifulSoup(page, \"lxml\")"
   ]
  },
  {
   "cell_type": "code",
   "execution_count": null,
   "metadata": {
    "collapsed": false
   },
   "outputs": [],
   "source": [
    "print soup.prettify()"
   ]
  },
  {
   "cell_type": "code",
   "execution_count": 4,
   "metadata": {
    "collapsed": false
   },
   "outputs": [],
   "source": [
    "makes = soup.find_all(\"div\", class_=\"item-list\")[1]\n",
    "links_makes = makes.find_all(\"div\", class_ = \"views-field views-field-nothing\")"
   ]
  },
  {
   "cell_type": "code",
   "execution_count": 5,
   "metadata": {
    "collapsed": false,
    "scrolled": true
   },
   "outputs": [],
   "source": [
    "list_makes = []\n",
    "prefix = \"https://haynes.com\"\n",
    "for make in links_makes:\n",
    "    list_makes.append(prefix + make.a[\"href\"])    "
   ]
  },
  {
   "cell_type": "code",
   "execution_count": 6,
   "metadata": {
    "collapsed": false
   },
   "outputs": [],
   "source": [
    "#Query the website and return the html to the variable 'page'\n",
    "list_models = []\n",
    "\n",
    "for link in list_makes:\n",
    "    page_temp = urllib2.urlopen(link)\n",
    "    soup_temp = BeautifulSoup(page_temp, \"lxml\")\n",
    "    model_temp = soup_temp.find_all(\"div\", class_=\"item-list\")[1]\n",
    "    links_model = model_temp.find_all(\"li\")\n",
    "    for model in links_model:\n",
    "        list_models.append(model.a[\"href\"])\n"
   ]
  },
  {
   "cell_type": "code",
   "execution_count": 10,
   "metadata": {
    "collapsed": false
   },
   "outputs": [],
   "source": [
    "def extract_info(link, result):\n",
    "    import re\n",
    "    page_1 = urllib2.urlopen(link)\n",
    "    soup_1 = BeautifulSoup(page_1)\n",
    "    title = soup_1.find(\"h1\", class_=\"product-title\").get_text()\n",
    "    price = soup_1.find(\"span\", class_=\"price-amount commerce-price-savings-formatter-price\").get_text()\n",
    "            \n",
    "    body = soup_1.find_all(\"div\", class_=\"field-item even\")\n",
    "    \n",
    "    Format = body[2].get_text()\n",
    "    decription = body[4].get_text() + body[5].get_text()+ body[6].get_text() + body[7].get_text()\n",
    "    description = decription.encode('utf-8')\n",
    "    \n",
    "    table = body[8].get_text()\n",
    "    part_no = soup_1.findAll('div', text = re.compile('Part number'), attrs = {'class' : 'field-item even'})\n",
    "    dimensions = soup_1.findAll('div', text = re.compile('Dimensions'), attrs = {'class' : 'field-item even'})\n",
    "    pages = soup_1.findAll('div', text = re.compile('# of pages'), attrs = {'class' : 'field-item even'})\n",
    "    ISBN13 = soup_1.findAll('div', text = re.compile('ISBN-13'), attrs = {'class' : 'field-item even'})\n",
    "    ISBN10 = soup_1.findAll('div', text = re.compile('ISBN-10'), attrs = {'class' : 'field-item even'})\n",
    "    UPC = soup_1.findAll('div', text = re.compile('UPC'), attrs = {'class' : 'field-item even'})\n",
    "    publish_date = soup_1.findAll('div', text = re.compile('Publication date'), attrs = {'class' : 'field-item even'})\n",
    "    language = soup_1.findAll('div', text = re.compile('Language'), attrs = {'class' : 'field-item even'})\n",
    "    \n",
    "    reviews = soup_1.find(\"iframe\", class_ = \"product-reviews-amazon\")\n",
    "    if reviews is not None:\n",
    "        reviews = reviews[\"src\"]\n",
    "    \n",
    "    result.append([title, price, Format,description, table, part_no, dimensions, pages,ISBN13, ISBN10, UPC, publish_date, language, reviews])"
   ]
  },
  {
   "cell_type": "code",
   "execution_count": null,
   "metadata": {
    "collapsed": false
   },
   "outputs": [],
   "source": [
    "import time\n",
    "start = time.time()\n",
    "\n",
    "result = []\n",
    "for link in list_models:\n",
    "    # 3 types of links\n",
    "    # 1-result of a search, go to next level\n",
    "    if \"search?query\" in link:\n",
    "        page_temp = urllib2.urlopen(link)\n",
    "        soup_temp = BeautifulSoup(page_temp, \"lxml\")\n",
    "        model_temp = soup_temp.find_all(\"div\", class_=\"product-teaser-title\")[1]\n",
    "        for item in model_temp:\n",
    "            if item is not None:\n",
    "                print item\n",
    "                link_temp = prefix + item[\"href\"]\n",
    "                extract_info(link_temp, result)\n",
    "         \n",
    "    # 2-need to go to next level by \"more info\"\n",
    "    elif link[-1].isdigit():\n",
    "        page_temp = urllib2.urlopen(link)\n",
    "        soup_temp = BeautifulSoup(page_temp, \"lxml\")\n",
    "        link_temp = soup_temp.find_all(\"div\", class_=\"views-field views-field-view-node\")\n",
    "        for item in link_temp:\n",
    "            link_temp = prefix + item.a[\"href\"]\n",
    "            extract_info(link_temp, result)\n",
    "    \n",
    "    # 3-final page\n",
    "    else:\n",
    "        extract_info(link, result)\n",
    "        \n",
    "end = time.time()\n",
    "print(end - start)\n",
    "'''\n",
    "    page_temp = urllib2.urlopen(link)\n",
    "    soup_temp = BeautifulSoup(page_temp)\n",
    "    \n",
    "    model_temp = soup_temp.find_all(\"div\", class_=\"item-list\")[1]\n",
    "    links_model = model_temp.find_all(\"li\")\n",
    "    for model in links_model:\n",
    "        list_models.append(model.a[\"href\"])\n",
    "'''"
   ]
  },
  {
   "cell_type": "code",
   "execution_count": null,
   "metadata": {
    "collapsed": false
   },
   "outputs": [],
   "source": [
    "'''\n",
    "for item in model_temp:\n",
    "    print item\n",
    "    if item:\n",
    "        print item[\"href\"]\n",
    "'''"
   ]
  },
  {
   "cell_type": "code",
   "execution_count": null,
   "metadata": {
    "collapsed": false
   },
   "outputs": [],
   "source": [
    "print len(result)"
   ]
  },
  {
   "cell_type": "code",
   "execution_count": null,
   "metadata": {
    "collapsed": true
   },
   "outputs": [],
   "source": [
    "import json\n",
    "\n",
    "with open(\"Manuals.json\", \"w\") as writeJSON:\n",
    "    json.dump(result, writeJSON)"
   ]
  },
  {
   "cell_type": "code",
   "execution_count": null,
   "metadata": {
    "collapsed": false
   },
   "outputs": [],
   "source": [
    "import csv\n",
    "\n",
    "with open(\"Manuals.csv\", \"wb\") as f:\n",
    "    writer = csv.writer(f)\n",
    "    writer.writerows(result.encode(\"utf-8\"))\n",
    "'''\n",
    "with open(\"Manuals.csv\", \"w\") as toWrite:\n",
    "    writer = csv.writer(toWrite, delimiter=\",\")\n",
    "    writer.writerow([\"title\",\"price\", \"Format\",\"decription\", \"table\", \"part_no\", \"dimensions\", \"pages\",\"ISBN13\", \"ISBN10\", \"UPC\", \"publish_date\", \"language\", \"reviews\"])\n",
    "    for a in result:\n",
    "        writer.writerow(a)\n",
    "'''"
   ]
  },
  {
   "cell_type": "code",
   "execution_count": null,
   "metadata": {
    "collapsed": false
   },
   "outputs": [],
   "source": [
    "print soup_temp.prettify()"
   ]
  }
 ],
 "metadata": {
  "anaconda-cloud": {},
  "kernelspec": {
   "display_name": "Python [default]",
   "language": "python",
   "name": "python2"
  },
  "language_info": {
   "codemirror_mode": {
    "name": "ipython",
    "version": 2
   },
   "file_extension": ".py",
   "mimetype": "text/x-python",
   "name": "python",
   "nbconvert_exporter": "python",
   "pygments_lexer": "ipython2",
   "version": "2.7.12"
  }
 },
 "nbformat": 4,
 "nbformat_minor": 1
}
