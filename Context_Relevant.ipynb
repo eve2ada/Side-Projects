{
 "cells": [
  {
   "cell_type": "code",
   "execution_count": null,
   "metadata": {
    "collapsed": true
   },
   "outputs": [],
   "source": [
    "# Online test of Context Relevant By Yi 'Evelyn' He"
   ]
  },
  {
   "cell_type": "code",
   "execution_count": 240,
   "metadata": {
    "collapsed": false
   },
   "outputs": [],
   "source": [
    "import numpy as np\n",
    "import pandas as pd\n",
    "import matplotlib\n",
    "#matplotlib.style.use('ggplot')\n",
    "from sklearn import preprocessing\n",
    "from sklearn import feature_selection\n",
    "from sklearn.feature_selection import SelectKBest\n",
    "from sklearn.feature_selection import chi2\n",
    "from sklearn.feature_selection import SelectFromModel\n",
    "from sklearn.linear_model import LassoCV\n",
    "from sklearn.ensemble import RandomForestRegressor\n",
    "from sklearn import linear_model\n",
    "from pandas.tools.plotting import scatter_matrix"
   ]
  },
  {
   "cell_type": "code",
   "execution_count": 2,
   "metadata": {
    "collapsed": true
   },
   "outputs": [],
   "source": [
    "import os\n",
    "os.chdir(\"E:\\Dataset\\ContextRelevant\")"
   ]
  },
  {
   "cell_type": "code",
   "execution_count": 3,
   "metadata": {
    "collapsed": false
   },
   "outputs": [
    {
     "name": "stdout",
     "output_type": "stream",
     "text": [
      "(2215, 7)\n",
      "Dependent_variable    0\n",
      "Fitted_residuals      0\n",
      "Fitted_Values         0\n",
      "V6                    0\n",
      "V23                   0\n",
      "V34                   0\n",
      "V76                   0\n",
      "dtype: int64\n",
      "Dependent_variable      int64\n",
      "Fitted_residuals      float64\n",
      "Fitted_Values         float64\n",
      "V6                      int64\n",
      "V23                   float64\n",
      "V34                   float64\n",
      "V76                     int64\n",
      "dtype: object\n"
     ]
    }
   ],
   "source": [
    "'''\n",
    "1. Load and summarize the included data\n",
    "'''\n",
    "# load data\n",
    "data = pd.read_excel('ds_test_final.xls')\n",
    "# check amounts of variables and records\n",
    "print data.shape\n",
    "# we get a data frame of 2215*7\n",
    "\n",
    "# check missing values\n",
    "print np.sum(data.isnull())\n",
    "# so we have no missing values in this data set\n",
    "\n",
    "print data.dtypes\n",
    "# all columns are numeric\n",
    "\n",
    "# generate summary statistics\n",
    "#print data.describe"
   ]
  },
  {
   "cell_type": "code",
   "execution_count": 4,
   "metadata": {
    "collapsed": false
   },
   "outputs": [],
   "source": [
    "'''\n",
    "2. Determine a reasonable measure of model quality, \n",
    "and use the included data to compute and report this statistic.\n",
    "3. Do you consider it a good model? Why or why not?\n",
    "'''\n",
    "# since the dependent variable is real valued\n",
    "# we can use RMSE (root-mean-square error) to evaluete the model\n",
    "evl_RMSE = (np.mean(data.Fitted_residuals ** 2))**0.5\n",
    "# here we get the initial RMSE is 569.779\n",
    "# Obviously the initial model is not good, since the RMSE is too large"
   ]
  },
  {
   "cell_type": "code",
   "execution_count": 5,
   "metadata": {
    "collapsed": false
   },
   "outputs": [],
   "source": [
    "'''\n",
    "4. Discuss how well this model performs relative to a baseline model.\n",
    "'''\n",
    "# comparing with baseline model\n",
    "# here we use use a central tendency measure as baseline, i.e.mean\n",
    "# calculate baseline measurement\n",
    "baseline_RMSE = (np.mean((data.Dependent_variable - np.mean(data.Dependent_variable)) ** 2))**0.5\n",
    "# Here we get the RMSE of baseline model: 615.459\n",
    "# therefore the initial model performs worse than baseline model\n",
    "# since we get smaller RMSE with baseline model"
   ]
  },
  {
   "cell_type": "code",
   "execution_count": 6,
   "metadata": {
    "collapsed": false
   },
   "outputs": [
    {
     "name": "stdout",
     "output_type": "stream",
     "text": [
      "Root mean squared error: 613.8905\n"
     ]
    }
   ],
   "source": [
    "\n",
    "'''\n",
    "5. Examine the columns of predictor variables. \n",
    "Note any predictors that should be transformed, \n",
    "dropped or interacted to improve the model.\n",
    "'''\n",
    "# build a Random Forest model to identify important factors\n",
    "# just use default parameters\n",
    "df_indep = data.ix[:, 3:]\n",
    "#first build a linear regression model with all predictors-non-scaling\n",
    "lm_1 = linear_model.LinearRegression()\n",
    "lm_1.fit(df_indep, data[\"Dependent_variable\"])\n",
    "# Calculate RMSE\n",
    "print(\"Root mean squared error: %.4f\"\n",
    "      % (np.mean((lm_1.predict(df_indep) - data[\"Dependent_variable\"]) ** 2))**0.5)"
   ]
  },
  {
   "cell_type": "code",
   "execution_count": 7,
   "metadata": {
    "collapsed": false
   },
   "outputs": [
    {
     "name": "stdout",
     "output_type": "stream",
     "text": [
      "Root mean squared error: 613.8905\n"
     ]
    }
   ],
   "source": [
    "#then scale all predictors\n",
    "new_df = data.drop([\"Fitted_residuals\", \"Fitted_Values\"], 1)\n",
    "min_max_scaler = preprocessing.MinMaxScaler()\n",
    "new_df[['V6','V23','V34','V76']] = min_max_scaler.fit_transform(new_df[['V6','V23','V34','V76']])\n",
    "lm_2 = linear_model.LinearRegression()\n",
    "lm_2.fit(new_df.ix[:, 1:], new_df[\"Dependent_variable\"])\n",
    "\n",
    "# Calculate RMSE\n",
    "print(\"Root mean squared error: %.4f\"\n",
    "      % (np.mean((lm_2.predict(new_df.ix[:, 1:]) - data[\"Dependent_variable\"]) ** 2))**0.5)"
   ]
  },
  {
   "cell_type": "code",
   "execution_count": 8,
   "metadata": {
    "collapsed": false
   },
   "outputs": [
    {
     "name": "stdout",
     "output_type": "stream",
     "text": [
      "Root mean squared error: 282.2146\n"
     ]
    }
   ],
   "source": [
    "# build Random Forest model with non-scaling data\n",
    "model_RF_1 = RandomForestRegressor()\n",
    "model_RF_1.fit(df_indep, data[\"Dependent_variable\"])\n",
    "\n",
    "# Calculate RMSE\n",
    "print(\"Root mean squared error: %.4f\"\n",
    "      % (np.mean((model_RF_1.predict(df_indep) - data[\"Dependent_variable\"]) ** 2))**0.5)"
   ]
  },
  {
   "cell_type": "code",
   "execution_count": 9,
   "metadata": {
    "collapsed": false
   },
   "outputs": [
    {
     "name": "stdout",
     "output_type": "stream",
     "text": [
      "Root mean squared error: 278.0227\n"
     ]
    }
   ],
   "source": [
    "# build Random Forest model with scaled data\n",
    "model_RF_2 = RandomForestRegressor()\n",
    "model_RF_2.fit(new_df.ix[:, 1:], data[\"Dependent_variable\"])\n",
    "\n",
    "# Calculate RMSE\n",
    "print(\"Root mean squared error: %.4f\"\n",
    "      % (np.mean((model_RF_2.predict(new_df.ix[:, 1:]) - data[\"Dependent_variable\"]) ** 2))**0.5)"
   ]
  },
  {
   "cell_type": "code",
   "execution_count": 10,
   "metadata": {
    "collapsed": false
   },
   "outputs": [],
   "source": [
    "poly = preprocessing.PolynomialFeatures(2)\n",
    "poly_df = poly.fit_transform(new_df.ix[:, 1:]) \n",
    "new_feature_names = poly.get_feature_names(list(new_df.columns.values)[1:])\n",
    "poly_df = pd.DataFrame(poly_df, columns = new_feature_names)"
   ]
  },
  {
   "cell_type": "code",
   "execution_count": 11,
   "metadata": {
    "collapsed": false
   },
   "outputs": [
    {
     "data": {
      "text/html": [
       "<div>\n",
       "<table border=\"1\" class=\"dataframe\">\n",
       "  <thead>\n",
       "    <tr style=\"text-align: right;\">\n",
       "      <th></th>\n",
       "      <th>1</th>\n",
       "      <th>V6</th>\n",
       "      <th>V23</th>\n",
       "      <th>V34</th>\n",
       "      <th>V76</th>\n",
       "      <th>V6^2</th>\n",
       "      <th>V6 V23</th>\n",
       "      <th>V6 V34</th>\n",
       "      <th>V6 V76</th>\n",
       "      <th>V23^2</th>\n",
       "      <th>V23 V34</th>\n",
       "      <th>V23 V76</th>\n",
       "      <th>V34^2</th>\n",
       "      <th>V34 V76</th>\n",
       "      <th>V76^2</th>\n",
       "    </tr>\n",
       "  </thead>\n",
       "  <tbody>\n",
       "    <tr>\n",
       "      <th>0</th>\n",
       "      <td>1.0</td>\n",
       "      <td>0.000270</td>\n",
       "      <td>0.019041</td>\n",
       "      <td>0.023013</td>\n",
       "      <td>0.666667</td>\n",
       "      <td>7.294498e-08</td>\n",
       "      <td>0.000005</td>\n",
       "      <td>0.000006</td>\n",
       "      <td>0.000180</td>\n",
       "      <td>0.000363</td>\n",
       "      <td>0.000438</td>\n",
       "      <td>0.012694</td>\n",
       "      <td>0.000530</td>\n",
       "      <td>0.015342</td>\n",
       "      <td>0.444444</td>\n",
       "    </tr>\n",
       "    <tr>\n",
       "      <th>1</th>\n",
       "      <td>1.0</td>\n",
       "      <td>0.001794</td>\n",
       "      <td>0.057572</td>\n",
       "      <td>0.058229</td>\n",
       "      <td>0.666667</td>\n",
       "      <td>3.218077e-06</td>\n",
       "      <td>0.000103</td>\n",
       "      <td>0.000104</td>\n",
       "      <td>0.001196</td>\n",
       "      <td>0.003314</td>\n",
       "      <td>0.003352</td>\n",
       "      <td>0.038381</td>\n",
       "      <td>0.003391</td>\n",
       "      <td>0.038819</td>\n",
       "      <td>0.444444</td>\n",
       "    </tr>\n",
       "    <tr>\n",
       "      <th>2</th>\n",
       "      <td>1.0</td>\n",
       "      <td>0.002645</td>\n",
       "      <td>0.061828</td>\n",
       "      <td>0.071653</td>\n",
       "      <td>0.666667</td>\n",
       "      <td>6.994059e-06</td>\n",
       "      <td>0.000164</td>\n",
       "      <td>0.000189</td>\n",
       "      <td>0.001763</td>\n",
       "      <td>0.003823</td>\n",
       "      <td>0.004430</td>\n",
       "      <td>0.041219</td>\n",
       "      <td>0.005134</td>\n",
       "      <td>0.047768</td>\n",
       "      <td>0.444444</td>\n",
       "    </tr>\n",
       "    <tr>\n",
       "      <th>3</th>\n",
       "      <td>1.0</td>\n",
       "      <td>0.000910</td>\n",
       "      <td>0.258289</td>\n",
       "      <td>0.289226</td>\n",
       "      <td>0.666667</td>\n",
       "      <td>8.272469e-07</td>\n",
       "      <td>0.000235</td>\n",
       "      <td>0.000263</td>\n",
       "      <td>0.000606</td>\n",
       "      <td>0.066713</td>\n",
       "      <td>0.074704</td>\n",
       "      <td>0.172192</td>\n",
       "      <td>0.083652</td>\n",
       "      <td>0.192817</td>\n",
       "      <td>0.444444</td>\n",
       "    </tr>\n",
       "    <tr>\n",
       "      <th>4</th>\n",
       "      <td>1.0</td>\n",
       "      <td>0.000170</td>\n",
       "      <td>0.247088</td>\n",
       "      <td>0.511681</td>\n",
       "      <td>0.333333</td>\n",
       "      <td>2.875442e-08</td>\n",
       "      <td>0.000042</td>\n",
       "      <td>0.000087</td>\n",
       "      <td>0.000057</td>\n",
       "      <td>0.061052</td>\n",
       "      <td>0.126430</td>\n",
       "      <td>0.082363</td>\n",
       "      <td>0.261817</td>\n",
       "      <td>0.170560</td>\n",
       "      <td>0.111111</td>\n",
       "    </tr>\n",
       "  </tbody>\n",
       "</table>\n",
       "</div>"
      ],
      "text/plain": [
       "     1        V6       V23       V34       V76          V6^2    V6 V23  \\\n",
       "0  1.0  0.000270  0.019041  0.023013  0.666667  7.294498e-08  0.000005   \n",
       "1  1.0  0.001794  0.057572  0.058229  0.666667  3.218077e-06  0.000103   \n",
       "2  1.0  0.002645  0.061828  0.071653  0.666667  6.994059e-06  0.000164   \n",
       "3  1.0  0.000910  0.258289  0.289226  0.666667  8.272469e-07  0.000235   \n",
       "4  1.0  0.000170  0.247088  0.511681  0.333333  2.875442e-08  0.000042   \n",
       "\n",
       "     V6 V34    V6 V76     V23^2   V23 V34   V23 V76     V34^2   V34 V76  \\\n",
       "0  0.000006  0.000180  0.000363  0.000438  0.012694  0.000530  0.015342   \n",
       "1  0.000104  0.001196  0.003314  0.003352  0.038381  0.003391  0.038819   \n",
       "2  0.000189  0.001763  0.003823  0.004430  0.041219  0.005134  0.047768   \n",
       "3  0.000263  0.000606  0.066713  0.074704  0.172192  0.083652  0.192817   \n",
       "4  0.000087  0.000057  0.061052  0.126430  0.082363  0.261817  0.170560   \n",
       "\n",
       "      V76^2  \n",
       "0  0.444444  \n",
       "1  0.444444  \n",
       "2  0.444444  \n",
       "3  0.444444  \n",
       "4  0.111111  "
      ]
     },
     "execution_count": 11,
     "metadata": {},
     "output_type": "execute_result"
    }
   ],
   "source": [
    "poly_df.head()"
   ]
  },
  {
   "cell_type": "code",
   "execution_count": 12,
   "metadata": {
    "collapsed": false
   },
   "outputs": [
    {
     "name": "stdout",
     "output_type": "stream",
     "text": [
      "Root mean squared error: 287.6523\n"
     ]
    }
   ],
   "source": [
    "# build Random Forest model with polynomial features data\n",
    "model_RF_3 = RandomForestRegressor()\n",
    "model_RF_3.fit(poly_df, data[\"Dependent_variable\"])\n",
    "\n",
    "# Calculate RMSE\n",
    "print(\"Root mean squared error: %.4f\"\n",
    "      % (np.mean((model_RF_3.predict(poly_df) - data[\"Dependent_variable\"]) ** 2))**0.5)"
   ]
  },
  {
   "cell_type": "code",
   "execution_count": 13,
   "metadata": {
    "collapsed": true
   },
   "outputs": [],
   "source": [
    "#find most important features\n",
    "importances = model_RF_3.feature_importances_"
   ]
  },
  {
   "cell_type": "code",
   "execution_count": 14,
   "metadata": {
    "collapsed": false
   },
   "outputs": [
    {
     "data": {
      "text/plain": [
       "array([ 0.        ,  0.07085874,  0.06392881,  0.05639525,  0.00213018,\n",
       "        0.02967908,  0.12406462,  0.1202588 ,  0.10793247,  0.05923673,\n",
       "        0.10003982,  0.09843667,  0.06869049,  0.09665102,  0.00169732])"
      ]
     },
     "execution_count": 14,
     "metadata": {},
     "output_type": "execute_result"
    }
   ],
   "source": [
    "importances"
   ]
  },
  {
   "cell_type": "code",
   "execution_count": 15,
   "metadata": {
    "collapsed": true
   },
   "outputs": [],
   "source": [
    "poly_df_important = poly_df.drop([\"1\",\"V76\",\"V76^2\" ], 1)"
   ]
  },
  {
   "cell_type": "code",
   "execution_count": 16,
   "metadata": {
    "collapsed": false
   },
   "outputs": [
    {
     "name": "stdout",
     "output_type": "stream",
     "text": [
      "Root mean squared error: 277.2574\n"
     ]
    }
   ],
   "source": [
    "# build Random Forest model with only important polynomial features data\n",
    "model_RF_4 = RandomForestRegressor()\n",
    "model_RF_4.fit(poly_df_important, data[\"Dependent_variable\"])\n",
    "\n",
    "# Calculate RMSE\n",
    "print(\"Root mean squared error: %.4f\"\n",
    "      % (np.mean((model_RF_4.predict(poly_df_important) - data[\"Dependent_variable\"]) ** 2))**0.5)"
   ]
  },
  {
   "cell_type": "code",
   "execution_count": 17,
   "metadata": {
    "collapsed": false
   },
   "outputs": [
    {
     "data": {
      "text/plain": [
       "array([ 0.07386484,  0.06282827,  0.06494122,  0.03358854,  0.11405021,\n",
       "        0.1066092 ,  0.09404784,  0.06336372,  0.120465  ,  0.11059827,\n",
       "        0.05667948,  0.09896343])"
      ]
     },
     "execution_count": 17,
     "metadata": {},
     "output_type": "execute_result"
    }
   ],
   "source": [
    "model_RF_4.feature_importances_"
   ]
  },
  {
   "cell_type": "code",
   "execution_count": 18,
   "metadata": {
    "collapsed": false
   },
   "outputs": [
    {
     "data": {
      "text/plain": [
       "array([u'V6', u'V23', u'V34', u'V6^2', u'V6 V23', u'V6 V34', u'V6 V76',\n",
       "       u'V23^2', u'V23 V34', u'V23 V76', u'V34^2', u'V34 V76'], dtype=object)"
      ]
     },
     "execution_count": 18,
     "metadata": {},
     "output_type": "execute_result"
    }
   ],
   "source": [
    "poly_df_important.columns.values"
   ]
  },
  {
   "cell_type": "code",
   "execution_count": 19,
   "metadata": {
    "collapsed": true
   },
   "outputs": [],
   "source": [
    "poly_df_important_1 = poly_df_important.drop([\"V6\",\"V23\",\"V34\",\"V6^2\",\"V23^2\",\"V34^2\" ], 1)"
   ]
  },
  {
   "cell_type": "code",
   "execution_count": 20,
   "metadata": {
    "collapsed": false
   },
   "outputs": [
    {
     "name": "stdout",
     "output_type": "stream",
     "text": [
      "Root mean squared error: 275.2794\n"
     ]
    }
   ],
   "source": [
    "# build Random Forest model with only important polynomial features data\n",
    "model_RF_5 = RandomForestRegressor()\n",
    "model_RF_5.fit(poly_df_important_1, data[\"Dependent_variable\"])\n",
    "\n",
    "# Calculate RMSE\n",
    "print(\"Root mean squared error: %.4f\"\n",
    "      % (np.mean((model_RF_5.predict(poly_df_important_1) - data[\"Dependent_variable\"]) ** 2))**0.5)"
   ]
  },
  {
   "cell_type": "code",
   "execution_count": 24,
   "metadata": {
    "collapsed": false
   },
   "outputs": [
    {
     "name": "stdout",
     "output_type": "stream",
     "text": [
      "Root mean squared error: 278.1396\n"
     ]
    }
   ],
   "source": [
    "#remove more not very important features\n",
    "poly_df_important_2 = poly_df_important[[\"V6 V23\", \"V6 V34\", \"V23 V34\",\"V23 V76\"]]\n",
    "# build Random Forest model with only important polynomial features data\n",
    "model_RF_6 = RandomForestRegressor()\n",
    "model_RF_6.fit(poly_df_important_2, data[\"Dependent_variable\"])\n",
    "\n",
    "# Calculate RMSE\n",
    "print(\"Root mean squared error: %.4f\"\n",
    "      % (np.mean((model_RF_6.predict(poly_df_important_2) - data[\"Dependent_variable\"]) ** 2))**0.5)"
   ]
  },
  {
   "cell_type": "markdown",
   "metadata": {},
   "source": [
    "#start to implement feature selection using sklearn.feature_selection"
   ]
  },
  {
   "cell_type": "code",
   "execution_count": 28,
   "metadata": {
    "collapsed": true
   },
   "outputs": [],
   "source": [
    "#first generate high order terms\n",
    "poly3 = preprocessing.PolynomialFeatures(3)\n",
    "poly3_df = poly3.fit_transform(new_df.ix[:, 1:]) \n",
    "new_feature_names = poly3.get_feature_names(list(new_df.columns.values)[1:])\n",
    "poly3_df = pd.DataFrame(poly3_df, columns = new_feature_names)"
   ]
  },
  {
   "cell_type": "code",
   "execution_count": 41,
   "metadata": {
    "collapsed": false
   },
   "outputs": [],
   "source": [
    "#method 1: VarianceThreshold\n",
    "selector = feature_selection.VarianceThreshold()\n",
    "poly4 = selector.fit_transform(poly3_df)\n",
    "new_feature_list = selector.get_support(indices = True)"
   ]
  },
  {
   "cell_type": "code",
   "execution_count": 46,
   "metadata": {
    "collapsed": false
   },
   "outputs": [
    {
     "data": {
      "text/plain": [
       "array([ 1,  2,  3,  4,  5,  6,  7,  8,  9, 10, 11, 12, 13, 14, 15, 16, 17,\n",
       "       18, 19, 20, 21, 22, 23, 24, 25, 26, 27, 28, 29, 30, 31, 32, 33, 34], dtype=int64)"
      ]
     },
     "execution_count": 46,
     "metadata": {},
     "output_type": "execute_result"
    }
   ],
   "source": [
    "new_feature_list"
   ]
  },
  {
   "cell_type": "code",
   "execution_count": 72,
   "metadata": {
    "collapsed": true
   },
   "outputs": [],
   "source": [
    "temp = poly3_df.iloc[:, list(new_feature_list)]"
   ]
  },
  {
   "cell_type": "markdown",
   "metadata": {},
   "source": [
    "Since there is only first feature removed, we won't run RF model"
   ]
  },
  {
   "cell_type": "code",
   "execution_count": 73,
   "metadata": {
    "collapsed": false
   },
   "outputs": [
    {
     "name": "stderr",
     "output_type": "stream",
     "text": [
      "D:\\ANACONDA\\envs\\py2\\lib\\site-packages\\sklearn\\utils\\validation.py:429: DataConversionWarning: Data with input dtype int64 was converted to float64 by the scale function.\n",
      "  warnings.warn(msg, _DataConversionWarning)\n"
     ]
    }
   ],
   "source": [
    "#method 2: SelectKBest\n",
    "selector1 = SelectKBest(feature_selection.mutual_info_regression, k = 15)\n",
    "kbest = selector1.fit_transform(temp, data[\"Dependent_variable\"])\n",
    "new_feature_list = selector1.get_support(indices = True)"
   ]
  },
  {
   "cell_type": "code",
   "execution_count": 74,
   "metadata": {
    "collapsed": false
   },
   "outputs": [
    {
     "data": {
      "text/plain": [
       "array([ 0,  1,  2,  3,  4,  5,  6,  7,  8,  9, 10, 11, 12, 13, 14], dtype=int64)"
      ]
     },
     "execution_count": 74,
     "metadata": {},
     "output_type": "execute_result"
    }
   ],
   "source": [
    "new_feature_list"
   ]
  },
  {
   "cell_type": "code",
   "execution_count": 75,
   "metadata": {
    "collapsed": true
   },
   "outputs": [],
   "source": [
    "temp1 = temp.iloc[:, list(new_feature_list)]"
   ]
  },
  {
   "cell_type": "code",
   "execution_count": 149,
   "metadata": {
    "collapsed": false
   },
   "outputs": [
    {
     "name": "stdout",
     "output_type": "stream",
     "text": [
      "Root mean squared error: 237.0164\n"
     ]
    }
   ],
   "source": [
    "#run RF model\n",
    "model_RF_7 = RandomForestRegressor(500)\n",
    "model_RF_7.fit(temp1, data[\"Dependent_variable\"])\n",
    "\n",
    "# Calculate RMSE\n",
    "print(\"Root mean squared error: %.4f\"\n",
    "      % (np.mean((model_RF_7.predict(temp1) - data[\"Dependent_variable\"]) ** 2))**0.5)"
   ]
  },
  {
   "cell_type": "markdown",
   "metadata": {},
   "source": [
    "mutual_info_regression has better performance than  f_regression in our data set"
   ]
  },
  {
   "cell_type": "code",
   "execution_count": 128,
   "metadata": {
    "collapsed": false
   },
   "outputs": [
    {
     "name": "stdout",
     "output_type": "stream",
     "text": [
      "Root mean squared error: 274.8152\n"
     ]
    }
   ],
   "source": [
    "#method 3: SelectPercentile\n",
    "selector2 = feature_selection.SelectPercentile(feature_selection. mutual_info_regression, percentile = 65)\n",
    "percent = selector2.fit_transform(temp, data[\"Dependent_variable\"])\n",
    "new_feature_list = selector2.get_support(indices = True)\n",
    "temp2 = temp.iloc[:, list(new_feature_list)]\n",
    "#run RF model\n",
    "model_RF_8 = RandomForestRegressor()\n",
    "model_RF_8.fit(temp2, data[\"Dependent_variable\"])\n",
    "\n",
    "# Calculate RMSE\n",
    "print(\"Root mean squared error: %.4f\"\n",
    "      % (np.mean((model_RF_8.predict(temp2) - data[\"Dependent_variable\"]) ** 2))**0.5)"
   ]
  },
  {
   "cell_type": "code",
   "execution_count": 129,
   "metadata": {
    "collapsed": false
   },
   "outputs": [
    {
     "data": {
      "text/plain": [
       "array([ 1,  2,  3,  4,  5,  6,  7,  8, 10, 14], dtype=int64)"
      ]
     },
     "execution_count": 129,
     "metadata": {},
     "output_type": "execute_result"
    }
   ],
   "source": [
    "new_feature_list"
   ]
  },
  {
   "cell_type": "code",
   "execution_count": 118,
   "metadata": {
    "collapsed": false
   },
   "outputs": [
    {
     "name": "stdout",
     "output_type": "stream",
     "text": [
      "Root mean squared error: 290.2701\n"
     ]
    }
   ],
   "source": [
    "#method 4: SelectFpr\n",
    "selector3 = feature_selection.SelectFpr()\n",
    "fpr = selector3.fit_transform(temp, data[\"Dependent_variable\"])\n",
    "new_feature_list = selector3.get_support(indices = True)\n",
    "temp3 = temp.iloc[:, list(new_feature_list)]\n",
    "#run RF model\n",
    "model_RF_9 = RandomForestRegressor()\n",
    "model_RF_9.fit(temp3, data[\"Dependent_variable\"])\n",
    "\n",
    "# Calculate RMSE\n",
    "print(\"Root mean squared error: %.4f\"\n",
    "      % (np.mean((model_RF_9.predict(temp3) - data[\"Dependent_variable\"]) ** 2))**0.5)"
   ]
  },
  {
   "cell_type": "code",
   "execution_count": 117,
   "metadata": {
    "collapsed": false
   },
   "outputs": [
    {
     "data": {
      "text/plain": [
       "array([ 2,  6, 14], dtype=int64)"
      ]
     },
     "execution_count": 117,
     "metadata": {},
     "output_type": "execute_result"
    }
   ],
   "source": [
    "new_feature_list"
   ]
  },
  {
   "cell_type": "code",
   "execution_count": 150,
   "metadata": {
    "collapsed": false
   },
   "outputs": [
    {
     "name": "stdout",
     "output_type": "stream",
     "text": [
      "Root mean squared error: 535.0995\n"
     ]
    }
   ],
   "source": [
    "#method 5: SelectFdr\n",
    "selector4 = feature_selection.SelectFdr()\n",
    "fdr = selector4.fit_transform(temp, data[\"Dependent_variable\"])\n",
    "new_feature_list = selector4.get_support(indices = True)\n",
    "temp4 = temp.iloc[:, list(new_feature_list)]\n",
    "#run RF model\n",
    "model_RF_10 = RandomForestRegressor(500)\n",
    "model_RF_10.fit(temp4, data[\"Dependent_variable\"])\n",
    "\n",
    "# Calculate RMSE\n",
    "print(\"Root mean squared error: %.4f\"\n",
    "      % (np.mean((model_RF_10.predict(temp4) - data[\"Dependent_variable\"]) ** 2))**0.5)"
   ]
  },
  {
   "cell_type": "code",
   "execution_count": 148,
   "metadata": {
    "collapsed": false
   },
   "outputs": [
    {
     "data": {
      "text/plain": [
       "array([ 2,  6, 14], dtype=int64)"
      ]
     },
     "execution_count": 148,
     "metadata": {},
     "output_type": "execute_result"
    }
   ],
   "source": [
    "new_feature_list"
   ]
  },
  {
   "cell_type": "code",
   "execution_count": 124,
   "metadata": {
    "collapsed": false
   },
   "outputs": [
    {
     "name": "stdout",
     "output_type": "stream",
     "text": [
      "Root mean squared error: 542.6732\n"
     ]
    }
   ],
   "source": [
    "#method 6: SelectFwe\n",
    "selector5 = feature_selection.SelectFwe()\n",
    "fwe = selector5.fit_transform(temp, data[\"Dependent_variable\"])\n",
    "new_feature_list = selector5.get_support(indices = True)\n",
    "temp5 = temp.iloc[:, list(new_feature_list)]\n",
    "#run RF model\n",
    "model_RF_11 = RandomForestRegressor()\n",
    "model_RF_11.fit(temp5, data[\"Dependent_variable\"])\n",
    "\n",
    "# Calculate RMSE\n",
    "print(\"Root mean squared error: %.4f\"\n",
    "      % (np.mean((model_RF_11.predict(temp5) - data[\"Dependent_variable\"]) ** 2))**0.5)"
   ]
  },
  {
   "cell_type": "code",
   "execution_count": 125,
   "metadata": {
    "collapsed": false
   },
   "outputs": [
    {
     "data": {
      "text/plain": [
       "array([2, 6], dtype=int64)"
      ]
     },
     "execution_count": 125,
     "metadata": {},
     "output_type": "execute_result"
    }
   ],
   "source": [
    "new_feature_list"
   ]
  },
  {
   "cell_type": "code",
   "execution_count": 151,
   "metadata": {
    "collapsed": false
   },
   "outputs": [
    {
     "name": "stdout",
     "output_type": "stream",
     "text": [
      "Root mean squared error: 557.6821\n"
     ]
    }
   ],
   "source": [
    "#method 7: GenericUnivariateSelect\n",
    "selector6 = feature_selection.GenericUnivariateSelect(mode='percentile')\n",
    "gus = selector6.fit_transform(temp, data[\"Dependent_variable\"])\n",
    "new_feature_list = selector6.get_support(indices = True)\n",
    "temp6 = temp.iloc[:, list(new_feature_list)]\n",
    "#run RF model\n",
    "model_RF_12 = RandomForestRegressor(500)\n",
    "model_RF_12.fit(temp6, data[\"Dependent_variable\"])\n",
    "\n",
    "# Calculate RMSE\n",
    "print(\"Root mean squared error: %.4f\"\n",
    "      % (np.mean((model_RF_12.predict(temp6) - data[\"Dependent_variable\"]) ** 2))**0.5)"
   ]
  },
  {
   "cell_type": "code",
   "execution_count": 145,
   "metadata": {
    "collapsed": false
   },
   "outputs": [
    {
     "data": {
      "text/plain": [
       "array([ 0,  1,  2,  3,  4,  5,  6,  7,  8,  9, 10, 11, 12, 13, 14], dtype=int64)"
      ]
     },
     "execution_count": 145,
     "metadata": {},
     "output_type": "execute_result"
    }
   ],
   "source": [
    "new_feature_list"
   ]
  },
  {
   "cell_type": "markdown",
   "metadata": {},
   "source": [
    "for GenericUnivariateSelect, the best mode is k_best. Other modes selected out very limited features, like 1,2 or 3"
   ]
  },
  {
   "cell_type": "code",
   "execution_count": 171,
   "metadata": {
    "collapsed": true
   },
   "outputs": [],
   "source": [
    "#method 8: Recursive feature elimination\n",
    "rfe = feature_selection.RFE(estimator=model_RF_7)\n",
    "fit = rfe.fit(temp1, data[\"Dependent_variable\"])"
   ]
  },
  {
   "cell_type": "code",
   "execution_count": 179,
   "metadata": {
    "collapsed": false
   },
   "outputs": [],
   "source": [
    "ranking = rfe.support_\n",
    "selected = rfe.n_features_\n",
    "est = rfe.estimator_"
   ]
  },
  {
   "cell_type": "code",
   "execution_count": 183,
   "metadata": {
    "collapsed": false
   },
   "outputs": [
    {
     "data": {
      "text/plain": [
       "array([False,  True, False, False,  True, False, False,  True, False,\n",
       "        True, False, False,  True,  True,  True], dtype=bool)"
      ]
     },
     "execution_count": 183,
     "metadata": {},
     "output_type": "execute_result"
    }
   ],
   "source": [
    "ranking"
   ]
  },
  {
   "cell_type": "code",
   "execution_count": 210,
   "metadata": {
    "collapsed": false
   },
   "outputs": [
    {
     "data": {
      "text/plain": [
       "numpy.ndarray"
      ]
     },
     "execution_count": 210,
     "metadata": {},
     "output_type": "execute_result"
    }
   ],
   "source": [
    "type(ranking)"
   ]
  },
  {
   "cell_type": "code",
   "execution_count": 181,
   "metadata": {
    "collapsed": false
   },
   "outputs": [
    {
     "data": {
      "text/plain": [
       "7"
      ]
     },
     "execution_count": 181,
     "metadata": {},
     "output_type": "execute_result"
    }
   ],
   "source": [
    "selected"
   ]
  },
  {
   "cell_type": "code",
   "execution_count": 175,
   "metadata": {
    "collapsed": false
   },
   "outputs": [
    {
     "data": {
      "text/plain": [
       "RandomForestRegressor(bootstrap=True, criterion='mse', max_depth=None,\n",
       "           max_features='auto', max_leaf_nodes=None,\n",
       "           min_impurity_split=1e-07, min_samples_leaf=1,\n",
       "           min_samples_split=2, min_weight_fraction_leaf=0.0,\n",
       "           n_estimators=500, n_jobs=1, oob_score=False, random_state=None,\n",
       "           verbose=0, warm_start=False)"
      ]
     },
     "execution_count": 175,
     "metadata": {},
     "output_type": "execute_result"
    }
   ],
   "source": [
    "est"
   ]
  },
  {
   "cell_type": "code",
   "execution_count": 186,
   "metadata": {
    "collapsed": false
   },
   "outputs": [
    {
     "data": {
      "text/plain": [
       "(2215, 15)"
      ]
     },
     "execution_count": 186,
     "metadata": {},
     "output_type": "execute_result"
    }
   ],
   "source": [
    "temp1.shape"
   ]
  },
  {
   "cell_type": "code",
   "execution_count": 219,
   "metadata": {
    "collapsed": false
   },
   "outputs": [],
   "source": [
    "df_sel = temp1.iloc[:,ranking]"
   ]
  },
  {
   "cell_type": "code",
   "execution_count": 221,
   "metadata": {
    "collapsed": false
   },
   "outputs": [
    {
     "data": {
      "text/html": [
       "<div>\n",
       "<table border=\"1\" class=\"dataframe\">\n",
       "  <thead>\n",
       "    <tr style=\"text-align: right;\">\n",
       "      <th></th>\n",
       "      <th>1</th>\n",
       "      <th>V34</th>\n",
       "      <th>V6^2</th>\n",
       "      <th>V6 V23</th>\n",
       "      <th>V6 V34</th>\n",
       "      <th>V34 V76</th>\n",
       "      <th>V6^2 V76</th>\n",
       "      <th>V6 V23^2</th>\n",
       "      <th>V6 V23 V34</th>\n",
       "      <th>V6 V23 V76</th>\n",
       "      <th>V6 V34^2</th>\n",
       "      <th>V6 V34 V76</th>\n",
       "      <th>V6 V76^2</th>\n",
       "      <th>V23^3</th>\n",
       "      <th>V34 V76^2</th>\n",
       "    </tr>\n",
       "  </thead>\n",
       "  <tbody>\n",
       "    <tr>\n",
       "      <th>0</th>\n",
       "      <td>1.0</td>\n",
       "      <td>0.023013</td>\n",
       "      <td>7.294498e-08</td>\n",
       "      <td>0.000005</td>\n",
       "      <td>0.000006</td>\n",
       "      <td>0.015342</td>\n",
       "      <td>4.862999e-08</td>\n",
       "      <td>9.792356e-08</td>\n",
       "      <td>1.183470e-07</td>\n",
       "      <td>0.000003</td>\n",
       "      <td>1.430301e-07</td>\n",
       "      <td>0.000004</td>\n",
       "      <td>0.000120</td>\n",
       "      <td>0.000007</td>\n",
       "      <td>0.010228</td>\n",
       "    </tr>\n",
       "    <tr>\n",
       "      <th>1</th>\n",
       "      <td>1.0</td>\n",
       "      <td>0.058229</td>\n",
       "      <td>3.218077e-06</td>\n",
       "      <td>0.000103</td>\n",
       "      <td>0.000104</td>\n",
       "      <td>0.038819</td>\n",
       "      <td>2.145385e-06</td>\n",
       "      <td>5.945880e-06</td>\n",
       "      <td>6.013738e-06</td>\n",
       "      <td>0.000069</td>\n",
       "      <td>6.082371e-06</td>\n",
       "      <td>0.000070</td>\n",
       "      <td>0.000797</td>\n",
       "      <td>0.000191</td>\n",
       "      <td>0.025879</td>\n",
       "    </tr>\n",
       "    <tr>\n",
       "      <th>2</th>\n",
       "      <td>1.0</td>\n",
       "      <td>0.071653</td>\n",
       "      <td>6.994059e-06</td>\n",
       "      <td>0.000164</td>\n",
       "      <td>0.000189</td>\n",
       "      <td>0.047768</td>\n",
       "      <td>4.662706e-06</td>\n",
       "      <td>1.010961e-05</td>\n",
       "      <td>1.171608e-05</td>\n",
       "      <td>0.000109</td>\n",
       "      <td>1.357782e-05</td>\n",
       "      <td>0.000126</td>\n",
       "      <td>0.001175</td>\n",
       "      <td>0.000236</td>\n",
       "      <td>0.031846</td>\n",
       "    </tr>\n",
       "    <tr>\n",
       "      <th>3</th>\n",
       "      <td>1.0</td>\n",
       "      <td>0.289226</td>\n",
       "      <td>8.272469e-07</td>\n",
       "      <td>0.000235</td>\n",
       "      <td>0.000263</td>\n",
       "      <td>0.192817</td>\n",
       "      <td>5.514979e-07</td>\n",
       "      <td>6.067752e-05</td>\n",
       "      <td>6.794538e-05</td>\n",
       "      <td>0.000157</td>\n",
       "      <td>7.608377e-05</td>\n",
       "      <td>0.000175</td>\n",
       "      <td>0.000404</td>\n",
       "      <td>0.017231</td>\n",
       "      <td>0.128545</td>\n",
       "    </tr>\n",
       "    <tr>\n",
       "      <th>4</th>\n",
       "      <td>1.0</td>\n",
       "      <td>0.511681</td>\n",
       "      <td>2.875442e-08</td>\n",
       "      <td>0.000042</td>\n",
       "      <td>0.000087</td>\n",
       "      <td>0.170560</td>\n",
       "      <td>9.584806e-09</td>\n",
       "      <td>1.035273e-05</td>\n",
       "      <td>2.143890e-05</td>\n",
       "      <td>0.000014</td>\n",
       "      <td>4.439665e-05</td>\n",
       "      <td>0.000029</td>\n",
       "      <td>0.000019</td>\n",
       "      <td>0.015085</td>\n",
       "      <td>0.056853</td>\n",
       "    </tr>\n",
       "  </tbody>\n",
       "</table>\n",
       "</div>"
      ],
      "text/plain": [
       "     1       V34          V6^2    V6 V23    V6 V34   V34 V76      V6^2 V76  \\\n",
       "0  1.0  0.023013  7.294498e-08  0.000005  0.000006  0.015342  4.862999e-08   \n",
       "1  1.0  0.058229  3.218077e-06  0.000103  0.000104  0.038819  2.145385e-06   \n",
       "2  1.0  0.071653  6.994059e-06  0.000164  0.000189  0.047768  4.662706e-06   \n",
       "3  1.0  0.289226  8.272469e-07  0.000235  0.000263  0.192817  5.514979e-07   \n",
       "4  1.0  0.511681  2.875442e-08  0.000042  0.000087  0.170560  9.584806e-09   \n",
       "\n",
       "       V6 V23^2    V6 V23 V34  V6 V23 V76      V6 V34^2  V6 V34 V76  V6 V76^2  \\\n",
       "0  9.792356e-08  1.183470e-07    0.000003  1.430301e-07    0.000004  0.000120   \n",
       "1  5.945880e-06  6.013738e-06    0.000069  6.082371e-06    0.000070  0.000797   \n",
       "2  1.010961e-05  1.171608e-05    0.000109  1.357782e-05    0.000126  0.001175   \n",
       "3  6.067752e-05  6.794538e-05    0.000157  7.608377e-05    0.000175  0.000404   \n",
       "4  1.035273e-05  2.143890e-05    0.000014  4.439665e-05    0.000029  0.000019   \n",
       "\n",
       "      V23^3  V34 V76^2  \n",
       "0  0.000007   0.010228  \n",
       "1  0.000191   0.025879  \n",
       "2  0.000236   0.031846  \n",
       "3  0.017231   0.128545  \n",
       "4  0.015085   0.056853  "
      ]
     },
     "execution_count": 221,
     "metadata": {},
     "output_type": "execute_result"
    }
   ],
   "source": [
    "temp1.head()"
   ]
  },
  {
   "cell_type": "code",
   "execution_count": 220,
   "metadata": {
    "collapsed": false
   },
   "outputs": [
    {
     "data": {
      "text/html": [
       "<div>\n",
       "<table border=\"1\" class=\"dataframe\">\n",
       "  <thead>\n",
       "    <tr style=\"text-align: right;\">\n",
       "      <th></th>\n",
       "      <th>V34</th>\n",
       "      <th>V6 V34</th>\n",
       "      <th>V6 V23^2</th>\n",
       "      <th>V6 V23 V76</th>\n",
       "      <th>V6 V76^2</th>\n",
       "      <th>V23^3</th>\n",
       "      <th>V34 V76^2</th>\n",
       "    </tr>\n",
       "  </thead>\n",
       "  <tbody>\n",
       "    <tr>\n",
       "      <th>0</th>\n",
       "      <td>0.023013</td>\n",
       "      <td>0.000006</td>\n",
       "      <td>9.792356e-08</td>\n",
       "      <td>0.000003</td>\n",
       "      <td>0.000120</td>\n",
       "      <td>0.000007</td>\n",
       "      <td>0.010228</td>\n",
       "    </tr>\n",
       "    <tr>\n",
       "      <th>1</th>\n",
       "      <td>0.058229</td>\n",
       "      <td>0.000104</td>\n",
       "      <td>5.945880e-06</td>\n",
       "      <td>0.000069</td>\n",
       "      <td>0.000797</td>\n",
       "      <td>0.000191</td>\n",
       "      <td>0.025879</td>\n",
       "    </tr>\n",
       "    <tr>\n",
       "      <th>2</th>\n",
       "      <td>0.071653</td>\n",
       "      <td>0.000189</td>\n",
       "      <td>1.010961e-05</td>\n",
       "      <td>0.000109</td>\n",
       "      <td>0.001175</td>\n",
       "      <td>0.000236</td>\n",
       "      <td>0.031846</td>\n",
       "    </tr>\n",
       "    <tr>\n",
       "      <th>3</th>\n",
       "      <td>0.289226</td>\n",
       "      <td>0.000263</td>\n",
       "      <td>6.067752e-05</td>\n",
       "      <td>0.000157</td>\n",
       "      <td>0.000404</td>\n",
       "      <td>0.017231</td>\n",
       "      <td>0.128545</td>\n",
       "    </tr>\n",
       "    <tr>\n",
       "      <th>4</th>\n",
       "      <td>0.511681</td>\n",
       "      <td>0.000087</td>\n",
       "      <td>1.035273e-05</td>\n",
       "      <td>0.000014</td>\n",
       "      <td>0.000019</td>\n",
       "      <td>0.015085</td>\n",
       "      <td>0.056853</td>\n",
       "    </tr>\n",
       "  </tbody>\n",
       "</table>\n",
       "</div>"
      ],
      "text/plain": [
       "        V34    V6 V34      V6 V23^2  V6 V23 V76  V6 V76^2     V23^3  V34 V76^2\n",
       "0  0.023013  0.000006  9.792356e-08    0.000003  0.000120  0.000007   0.010228\n",
       "1  0.058229  0.000104  5.945880e-06    0.000069  0.000797  0.000191   0.025879\n",
       "2  0.071653  0.000189  1.010961e-05    0.000109  0.001175  0.000236   0.031846\n",
       "3  0.289226  0.000263  6.067752e-05    0.000157  0.000404  0.017231   0.128545\n",
       "4  0.511681  0.000087  1.035273e-05    0.000014  0.000019  0.015085   0.056853"
      ]
     },
     "execution_count": 220,
     "metadata": {},
     "output_type": "execute_result"
    }
   ],
   "source": [
    "df_sel.head()"
   ]
  },
  {
   "cell_type": "code",
   "execution_count": 222,
   "metadata": {
    "collapsed": false
   },
   "outputs": [
    {
     "name": "stdout",
     "output_type": "stream",
     "text": [
      "Root mean squared error: 236.7121\n"
     ]
    }
   ],
   "source": [
    "# Calculate RMSE\n",
    "print(\"Root mean squared error: %.4f\"\n",
    "      % (np.mean((est.predict(df_sel) - data[\"Dependent_variable\"]) ** 2))**0.5)"
   ]
  },
  {
   "cell_type": "code",
   "execution_count": 231,
   "metadata": {
    "collapsed": false
   },
   "outputs": [],
   "source": [
    "#method 9: RFE with cross-validation\n",
    "rfecv = feature_selection.RFECV(estimator = model_RF_7, cv = 10) \n",
    "fit = rfecv.fit(temp1, data[\"Dependent_variable\"])\n",
    "ranking = rfecv.support_\n",
    "selected = rfecv.n_features_\n",
    "est = rfecv.estimator_"
   ]
  },
  {
   "cell_type": "code",
   "execution_count": 232,
   "metadata": {
    "collapsed": false
   },
   "outputs": [
    {
     "data": {
      "text/plain": [
       "array([False,  True, False,  True,  True, False, False,  True, False,\n",
       "        True,  True, False,  True,  True,  True], dtype=bool)"
      ]
     },
     "execution_count": 232,
     "metadata": {},
     "output_type": "execute_result"
    }
   ],
   "source": [
    "ranking"
   ]
  },
  {
   "cell_type": "code",
   "execution_count": 233,
   "metadata": {
    "collapsed": false
   },
   "outputs": [
    {
     "data": {
      "text/plain": [
       "9"
      ]
     },
     "execution_count": 233,
     "metadata": {},
     "output_type": "execute_result"
    }
   ],
   "source": [
    "selected"
   ]
  },
  {
   "cell_type": "code",
   "execution_count": 234,
   "metadata": {
    "collapsed": false
   },
   "outputs": [
    {
     "data": {
      "text/plain": [
       "RandomForestRegressor(bootstrap=True, criterion='mse', max_depth=None,\n",
       "           max_features='auto', max_leaf_nodes=None,\n",
       "           min_impurity_split=1e-07, min_samples_leaf=1,\n",
       "           min_samples_split=2, min_weight_fraction_leaf=0.0,\n",
       "           n_estimators=500, n_jobs=1, oob_score=False, random_state=None,\n",
       "           verbose=0, warm_start=False)"
      ]
     },
     "execution_count": 234,
     "metadata": {},
     "output_type": "execute_result"
    }
   ],
   "source": [
    "est"
   ]
  },
  {
   "cell_type": "code",
   "execution_count": 235,
   "metadata": {
    "collapsed": true
   },
   "outputs": [],
   "source": [
    "df_sel = temp1.iloc[:,ranking]"
   ]
  },
  {
   "cell_type": "code",
   "execution_count": 236,
   "metadata": {
    "collapsed": false
   },
   "outputs": [
    {
     "data": {
      "text/html": [
       "<div>\n",
       "<table border=\"1\" class=\"dataframe\">\n",
       "  <thead>\n",
       "    <tr style=\"text-align: right;\">\n",
       "      <th></th>\n",
       "      <th>V34</th>\n",
       "      <th>V6 V23</th>\n",
       "      <th>V6 V34</th>\n",
       "      <th>V6 V23^2</th>\n",
       "      <th>V6 V23 V76</th>\n",
       "      <th>V6 V34^2</th>\n",
       "      <th>V6 V76^2</th>\n",
       "      <th>V23^3</th>\n",
       "      <th>V34 V76^2</th>\n",
       "    </tr>\n",
       "  </thead>\n",
       "  <tbody>\n",
       "    <tr>\n",
       "      <th>0</th>\n",
       "      <td>0.023013</td>\n",
       "      <td>0.000005</td>\n",
       "      <td>0.000006</td>\n",
       "      <td>9.792356e-08</td>\n",
       "      <td>0.000003</td>\n",
       "      <td>1.430301e-07</td>\n",
       "      <td>0.000120</td>\n",
       "      <td>0.000007</td>\n",
       "      <td>0.010228</td>\n",
       "    </tr>\n",
       "    <tr>\n",
       "      <th>1</th>\n",
       "      <td>0.058229</td>\n",
       "      <td>0.000103</td>\n",
       "      <td>0.000104</td>\n",
       "      <td>5.945880e-06</td>\n",
       "      <td>0.000069</td>\n",
       "      <td>6.082371e-06</td>\n",
       "      <td>0.000797</td>\n",
       "      <td>0.000191</td>\n",
       "      <td>0.025879</td>\n",
       "    </tr>\n",
       "    <tr>\n",
       "      <th>2</th>\n",
       "      <td>0.071653</td>\n",
       "      <td>0.000164</td>\n",
       "      <td>0.000189</td>\n",
       "      <td>1.010961e-05</td>\n",
       "      <td>0.000109</td>\n",
       "      <td>1.357782e-05</td>\n",
       "      <td>0.001175</td>\n",
       "      <td>0.000236</td>\n",
       "      <td>0.031846</td>\n",
       "    </tr>\n",
       "    <tr>\n",
       "      <th>3</th>\n",
       "      <td>0.289226</td>\n",
       "      <td>0.000235</td>\n",
       "      <td>0.000263</td>\n",
       "      <td>6.067752e-05</td>\n",
       "      <td>0.000157</td>\n",
       "      <td>7.608377e-05</td>\n",
       "      <td>0.000404</td>\n",
       "      <td>0.017231</td>\n",
       "      <td>0.128545</td>\n",
       "    </tr>\n",
       "    <tr>\n",
       "      <th>4</th>\n",
       "      <td>0.511681</td>\n",
       "      <td>0.000042</td>\n",
       "      <td>0.000087</td>\n",
       "      <td>1.035273e-05</td>\n",
       "      <td>0.000014</td>\n",
       "      <td>4.439665e-05</td>\n",
       "      <td>0.000019</td>\n",
       "      <td>0.015085</td>\n",
       "      <td>0.056853</td>\n",
       "    </tr>\n",
       "  </tbody>\n",
       "</table>\n",
       "</div>"
      ],
      "text/plain": [
       "        V34    V6 V23    V6 V34      V6 V23^2  V6 V23 V76      V6 V34^2  \\\n",
       "0  0.023013  0.000005  0.000006  9.792356e-08    0.000003  1.430301e-07   \n",
       "1  0.058229  0.000103  0.000104  5.945880e-06    0.000069  6.082371e-06   \n",
       "2  0.071653  0.000164  0.000189  1.010961e-05    0.000109  1.357782e-05   \n",
       "3  0.289226  0.000235  0.000263  6.067752e-05    0.000157  7.608377e-05   \n",
       "4  0.511681  0.000042  0.000087  1.035273e-05    0.000014  4.439665e-05   \n",
       "\n",
       "   V6 V76^2     V23^3  V34 V76^2  \n",
       "0  0.000120  0.000007   0.010228  \n",
       "1  0.000797  0.000191   0.025879  \n",
       "2  0.001175  0.000236   0.031846  \n",
       "3  0.000404  0.017231   0.128545  \n",
       "4  0.000019  0.015085   0.056853  "
      ]
     },
     "execution_count": 236,
     "metadata": {},
     "output_type": "execute_result"
    }
   ],
   "source": [
    "df_sel.head()"
   ]
  },
  {
   "cell_type": "code",
   "execution_count": 237,
   "metadata": {
    "collapsed": false
   },
   "outputs": [
    {
     "name": "stdout",
     "output_type": "stream",
     "text": [
      "Root mean squared error: 237.5194\n"
     ]
    }
   ],
   "source": [
    "# Calculate RMSE\n",
    "print(\"Root mean squared error: %.4f\"\n",
    "      % (np.mean((est.predict(df_sel) - data[\"Dependent_variable\"]) ** 2))**0.5)"
   ]
  },
  {
   "cell_type": "code",
   "execution_count": 261,
   "metadata": {
    "collapsed": false
   },
   "outputs": [
    {
     "name": "stdout",
     "output_type": "stream",
     "text": [
      "Root mean squared error: 613.4947\n"
     ]
    }
   ],
   "source": [
    "#method 10: SelectFromModel\n",
    "# use the base estimator LassoCV\n",
    "clf = LassoCV()\n",
    "#Set a minimum threshold of 0.15\n",
    "sfm = SelectFromModel(clf, threshold = .15)\n",
    "sfm.fit(temp1, data[\"Dependent_variable\"])\n",
    "n_features = sfm.transform(temp1).shape[1]\n",
    "new_feature_list = sfm.get_support(indices = True)\n",
    "df_sfm = temp1.iloc[:, list(new_feature_list)]\n",
    "# Calculate RMSE\n",
    "clf.fit(df_sfm, data[\"Dependent_variable\"])\n",
    "print(\"Root mean squared error: %.4f\"\n",
    "      % (np.mean((clf.predict(df_sfm) - data[\"Dependent_variable\"]) ** 2))**0.5)"
   ]
  },
  {
   "cell_type": "code",
   "execution_count": 262,
   "metadata": {
    "collapsed": false
   },
   "outputs": [
    {
     "data": {
      "text/plain": [
       "array([ 1,  4,  5, 13, 14], dtype=int64)"
      ]
     },
     "execution_count": 262,
     "metadata": {},
     "output_type": "execute_result"
    }
   ],
   "source": [
    "new_feature_list"
   ]
  },
  {
   "cell_type": "markdown",
   "metadata": {},
   "source": [
    "Using this method we get the same selected features with RFE"
   ]
  },
  {
   "cell_type": "code",
   "execution_count": 299,
   "metadata": {
    "collapsed": false
   },
   "outputs": [
    {
     "name": "stdout",
     "output_type": "stream",
     "text": [
      "Root mean squared error: 557.5962\n"
     ]
    }
   ],
   "source": [
    "#method 7: GenericUnivariateSelect\n",
    "selector6 = feature_selection.GenericUnivariateSelect(mode='percentile')\n",
    "gus = selector6.fit_transform(temp1, data[\"Dependent_variable\"])\n",
    "new_feature_list = selector6.get_support(indices = True)\n",
    "temp6 = temp1.iloc[:, list(new_feature_list)]\n",
    "#run RF model\n",
    "model_RF_12 = RandomForestRegressor(500)\n",
    "model_RF_12.fit(temp6, data[\"Dependent_variable\"])\n",
    "\n",
    "# Calculate RMSE\n",
    "print(\"Root mean squared error: %.4f\"\n",
    "      % (np.mean((model_RF_12.predict(temp6) - data[\"Dependent_variable\"]) ** 2))**0.5)"
   ]
  },
  {
   "cell_type": "code",
   "execution_count": 302,
   "metadata": {
    "collapsed": false
   },
   "outputs": [
    {
     "name": "stdout",
     "output_type": "stream",
     "text": [
      "Root mean squared error: 557.7262\n"
     ]
    }
   ],
   "source": [
    "# try to use pipeline for method 7\n",
    "import sklearn.pipeline\n",
    "select =feature_selection.GenericUnivariateSelect(mode='percentile')\n",
    "rf = RandomForestRegressor(500)\n",
    "steps = [(\"feature selection\", select), (\"lcv\", rf)]\n",
    "pipeline = sklearn.pipeline.Pipeline(steps)\n",
    "pipeline.fit(temp1, data[\"Dependent_variable\"])\n",
    "prediction = pipeline.predict(temp1)\n",
    "print(\"Root mean squared error: %.4f\"\n",
    "      % (np.mean((prediction - data[\"Dependent_variable\"]) ** 2))**0.5)"
   ]
  },
  {
   "cell_type": "code",
   "execution_count": 303,
   "metadata": {
    "collapsed": false
   },
   "outputs": [
    {
     "data": {
      "text/plain": [
       "311058.49984512338"
      ]
     },
     "execution_count": 303,
     "metadata": {},
     "output_type": "execute_result"
    }
   ],
   "source": [
    "sklearn.metrics.mean_squared_error(data[\"Dependent_variable\"], prediction)"
   ]
  },
  {
   "cell_type": "code",
   "execution_count": 306,
   "metadata": {
    "collapsed": false
   },
   "outputs": [
    {
     "data": {
      "text/plain": [
       "557.726187160979"
      ]
     },
     "execution_count": 306,
     "metadata": {},
     "output_type": "execute_result"
    }
   ],
   "source": [
    "(311058.49984512338)**0.5"
   ]
  },
  {
   "cell_type": "code",
   "execution_count": null,
   "metadata": {
    "collapsed": true
   },
   "outputs": [],
   "source": []
  }
 ],
 "metadata": {
  "anaconda-cloud": {},
  "kernelspec": {
   "display_name": "Python [conda root]",
   "language": "python",
   "name": "conda-root-py"
  },
  "language_info": {
   "codemirror_mode": {
    "name": "ipython",
    "version": 2
   },
   "file_extension": ".py",
   "mimetype": "text/x-python",
   "name": "python",
   "nbconvert_exporter": "python",
   "pygments_lexer": "ipython2",
   "version": "2.7.12"
  }
 },
 "nbformat": 4,
 "nbformat_minor": 0
}
